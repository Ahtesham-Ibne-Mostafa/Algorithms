{
  "nbformat": 4,
  "nbformat_minor": 0,
  "metadata": {
    "colab": {
      "provenance": [],
      "mount_file_id": "1Ur65fHsLZ1AtJCowo-Hb5QCMw9KIp0Pm",
      "authorship_tag": "ABX9TyPID6tH9FT0heGAZnT3R65+",
      "include_colab_link": true
    },
    "kernelspec": {
      "name": "python3",
      "display_name": "Python 3"
    },
    "language_info": {
      "name": "python"
    }
  },
  "cells": [
    {
      "cell_type": "markdown",
      "metadata": {
        "id": "view-in-github",
        "colab_type": "text"
      },
      "source": [
        "<a href=\"https://colab.research.google.com/github/Ahtesham-Ibne-Mostafa/Algorithms/blob/main/CSE221_Lab_2.ipynb\" target=\"_parent\"><img src=\"https://colab.research.google.com/assets/colab-badge.svg\" alt=\"Open In Colab\"/></a>"
      ]
    },
    {
      "cell_type": "code",
      "execution_count": 1,
      "metadata": {
        "id": "o0Q8OlsAy5hS"
      },
      "outputs": [],
      "source": [
        "# Task 01 (1)\n",
        "\n",
        "inp_file = open ('/content/drive/MyDrive/Colab Notebooks/CSE221/input1a.txt', mode ='r')\n",
        "data = inp_file.readlines()  # data = list\n",
        "out_file= open ('/content/drive/MyDrive/Colab Notebooks/CSE221/output1a.txt', mode ='w')\n",
        "\n",
        "sum = int(data[0].split(' ')[1])\n",
        "lst=data[1].split(' ')\n",
        "out=''\n",
        "for i in range(len(lst)):\n",
        "    for j in range(int(data[0][0])):\n",
        "        if int(lst[i])+int(lst[j])==sum:\n",
        "            out+=str(i+1)+' '+str(j+1)\n",
        "            break\n",
        "    if out!='':\n",
        "        break\n",
        "if out=='':\n",
        "    out='IMPOSSIBLE'\n",
        "print(out,file=out_file)\n",
        "inp_file.close()\n",
        "out_file.close()"
      ]
    },
    {
      "cell_type": "code",
      "source": [
        "# Task 01 (2)\n",
        "\n",
        "dik={}\n",
        "inp_file = open ('/content/drive/MyDrive/Colab Notebooks/CSE221/input1a.txt', mode ='r')\n",
        "data = inp_file.readlines()  # data = list\n",
        "out_file= open ('/content/drive/MyDrive/Colab Notebooks/CSE221/output1a.txt', mode ='w')\n",
        "\n",
        "sum = int(data[0].split(' ')[1])\n",
        "lst=data[1].split(' ')\n",
        "\n",
        "for i in range(int(data[0][0])):\n",
        "    dik[str(i+1)]=sum-int(lst[i])\n",
        "\n",
        "out=''\n",
        "for i in range(int(data[0][0])):\n",
        "    \n",
        "    \n",
        "print(dik)"
      ],
      "metadata": {
        "colab": {
          "base_uri": "https://localhost:8080/"
        },
        "id": "RixyX8-74-p3",
        "outputId": "5e1abdf2-8a5f-4b12-e04e-0838ff8cdff9"
      },
      "execution_count": null,
      "outputs": [
        {
          "output_type": "stream",
          "name": "stdout",
          "text": [
            "{'1': 7, '2': 3, '3': 9, '4': 5}\n"
          ]
        }
      ]
    },
    {
      "cell_type": "code",
      "source": [
        "# Task 2\n",
        "\n"
      ],
      "metadata": {
        "id": "RwRUyCmT7qIl"
      },
      "execution_count": null,
      "outputs": []
    }
  ]
}