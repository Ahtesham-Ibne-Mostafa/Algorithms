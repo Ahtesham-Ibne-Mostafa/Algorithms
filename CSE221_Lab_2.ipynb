{
  "nbformat": 4,
  "nbformat_minor": 0,
  "metadata": {
    "colab": {
      "provenance": [],
      "mount_file_id": "1Ur65fHsLZ1AtJCowo-Hb5QCMw9KIp0Pm",
      "authorship_tag": "ABX9TyMq5zYHmE/NUZ1/rrI8QVnP",
      "include_colab_link": true
    },
    "kernelspec": {
      "name": "python3",
      "display_name": "Python 3"
    },
    "language_info": {
      "name": "python"
    }
  },
  "cells": [
    {
      "cell_type": "markdown",
      "metadata": {
        "id": "view-in-github",
        "colab_type": "text"
      },
      "source": [
        "<a href=\"https://colab.research.google.com/github/Ahtesham-Ibne-Mostafa/Algorithms/blob/main/CSE221_Lab_2.ipynb\" target=\"_parent\"><img src=\"https://colab.research.google.com/assets/colab-badge.svg\" alt=\"Open In Colab\"/></a>"
      ]
    },
    {
      "cell_type": "code",
      "execution_count": 2,
      "metadata": {
        "id": "o0Q8OlsAy5hS"
      },
      "outputs": [],
      "source": [
        "# Task 01 (1)\n",
        "\n",
        "inp_file = open ('/content/drive/MyDrive/Colab Notebooks/CSE221/input1a.txt', mode ='r')\n",
        "data = inp_file.readlines()  # data = list\n",
        "out_file= open ('/content/drive/MyDrive/Colab Notebooks/CSE221/output1a.txt', mode ='w')\n",
        "\n",
        "sum = int(data[0].split(' ')[1])\n",
        "lst=data[1].split(' ')\n",
        "out=''\n",
        "for i in range(int(data[0][0])):\n",
        "    for j in range(i+1,int(data[0][0])):\n",
        "        if int(lst[i])+int(lst[j])==sum:\n",
        "            out+=str(i+1)+' '+str(j+1)\n",
        "            break\n",
        "    if out!='':\n",
        "        break\n",
        "if out=='':\n",
        "    out='IMPOSSIBLE'\n",
        "print(out,file=out_file)\n",
        "inp_file.close()\n",
        "out_file.close()"
      ]
    },
    {
      "cell_type": "code",
      "source": [
        "# Task 01 (2)\n",
        "\n",
        "inp_file = open ('/content/drive/MyDrive/Colab Notebooks/CSE221/input1b.txt', mode ='r')\n",
        "data = inp_file.readlines()  # data = list\n",
        "out_file= open ('/content/drive/MyDrive/Colab Notebooks/CSE221/output1b.txt', mode ='w')\n",
        "\n",
        "sum = int(data[0].split(' ')[1])\n",
        "lst=data[1].split(' ')\n",
        "\n",
        "def two_sum(arr, sum):\n",
        "    n = len(arr)\n",
        "    dik = {}\n",
        "    for i in range(n):\n",
        "        if sum - int(arr[i]) in dik:\n",
        "            return (dik[sum - int(arr[i])] + 1, i + 1)\n",
        "        dik[int(arr[i])] = i\n",
        "    return \"IMPOSSIBLE\"\n",
        "\n",
        "result = two_sum(lst, sum)\n",
        "print(*result,file=out_file)\n",
        "\n",
        "inp_file.close()\n",
        "out_file.close()"
      ],
      "metadata": {
        "id": "RixyX8-74-p3"
      },
      "execution_count": null,
      "outputs": []
    },
    {
      "cell_type": "code",
      "source": [
        "# Task 02 (1)\n",
        "\n",
        "inp_file = open ('/content/drive/MyDrive/Colab Notebooks/CSE221/input2a.txt', mode ='r')\n",
        "data = inp_file.readlines()  # data = list\n",
        "out_file= open ('/content/drive/MyDrive/Colab Notebooks/CSE221/output2a.txt', mode ='w')\n",
        "\n",
        "\n",
        "list1 = list(map(int, data[1].strip().split(' ')))\n",
        "\n",
        "list2 = list(map(int, data[3].strip().split(' ')))\n",
        "\n",
        "print(list1)\n",
        "print(list2)\n",
        "\n",
        "def merge_sort(list1, list2):\n",
        "    result = []\n",
        "    i = j = 0\n",
        "    while i < len(list1) and j < len(list2):\n",
        "        if int(list1[i]) < int(list2[j]):\n",
        "            result.append(int(list1[i]))\n",
        "            i += 1\n",
        "        else:\n",
        "            result.append(int(list2[j]))\n",
        "            j += 1\n",
        "    result += list1[i:]\n",
        "    result += list2[j:]\n",
        "    return result\n",
        "\n",
        "\n",
        "result = merge_sort(list1, list2)\n",
        "print(*result,file=out_file)\n",
        "\n",
        "inp_file.close()\n",
        "out_file.close()"
      ],
      "metadata": {
        "id": "i5jLE9MIgo5b",
        "colab": {
          "base_uri": "https://localhost:8080/"
        },
        "outputId": "e126140c-3883-4b3d-e6ee-437249a2944c"
      },
      "execution_count": null,
      "outputs": [
        {
          "output_type": "stream",
          "name": "stdout",
          "text": [
            "[2, 3, 8, 8, 10, 12, 14]\n",
            "[1, 1, 4, 5, 6, 8, 13, 15, 16]\n",
            "1 1 2 3 4 5 6 8 8 8 10 12 13 14 15 16\n"
          ]
        }
      ]
    },
    {
      "cell_type": "code",
      "source": [
        "# Task 02 (2)\n",
        "\n",
        "inp_file = open ('/content/drive/MyDrive/Colab Notebooks/CSE221/input2a.txt', mode ='r')\n",
        "data = inp_file.readlines()  # data = list\n",
        "out_file= open ('/content/drive/MyDrive/Colab Notebooks/CSE221/output2a.txt', mode ='w')\n",
        "\n",
        "\n",
        "list1 = list(map(int, data[1].strip().split(' ')))\n",
        "\n",
        "list2 = list(map(int, data[3].strip().split(' ')))\n",
        "\n",
        "def merge_linear(list1, list2):\n",
        "    result = []\n",
        "    i = j = 0\n",
        "    while i < len(list1) and j < len(list2):\n",
        "        if list1[i] < list2[j]:\n",
        "            result.append(list1[i])\n",
        "            i += 1\n",
        "        else:\n",
        "            result.append(list2[j])\n",
        "            j += 1\n",
        "    result += list1[i:]\n",
        "    result += list2[j:]\n",
        "    return result\n",
        "\n",
        "\n",
        "result = merge_linear(list1, list2)\n",
        "print(*result,file=out_file)\n",
        "\n",
        "inp_file.close()\n",
        "out_file.close()"
      ],
      "metadata": {
        "id": "j-WDnLpQxbmB"
      },
      "execution_count": null,
      "outputs": []
    },
    {
      "cell_type": "code",
      "source": [
        "# Task 3\n",
        "\n",
        "inp_file = open ('/content/drive/MyDrive/Colab Notebooks/CSE221/input3.txt', mode ='r')\n",
        "data = inp_file.readlines()  # data = list\n",
        "out_file= open ('/content/drive/MyDrive/Colab Notebooks/CSE221/output3.txt', mode ='w')\n",
        "\n",
        "\n",
        "list1 = list(map(int, data[1].strip().split(' ')))\n",
        "\n",
        "def merge(a, b):\n",
        "    c = []\n",
        "    i, j = 0, 0\n",
        "    while i < len(a) and j < len(b):\n",
        "        if a[i] < b[j]:\n",
        "            c.append(a[i])\n",
        "            i += 1\n",
        "        else:\n",
        "            c.append(b[j])\n",
        "            j += 1\n",
        "    c += a[i:]\n",
        "    c += b[j:]\n",
        "    return c\n",
        "\n",
        "def mergeSort(arr):\n",
        "    if len(arr) <= 1:\n",
        "        return arr\n",
        "    else:\n",
        "        mid = len(arr)//2\n",
        "        a1 = mergeSort(arr[:mid])\n",
        "        a2 = mergeSort(arr[mid:])\n",
        "        return merge(a1, a2)\n",
        "\n",
        "result = mergeSort(list1)\n",
        "\n",
        "print(*result)\n",
        "\n",
        "inp_file.close()\n",
        "out_file.close()"
      ],
      "metadata": {
        "colab": {
          "base_uri": "https://localhost:8080/"
        },
        "id": "TzhwBxeC-rTy",
        "outputId": "7d15f86f-d695-483f-c48b-d6dffdebf865"
      },
      "execution_count": null,
      "outputs": [
        {
          "output_type": "stream",
          "name": "stdout",
          "text": [
            "1 2 3 4 5 6 9 9\n"
          ]
        }
      ]
    },
    {
      "cell_type": "code",
      "source": [],
      "metadata": {
        "id": "bo3FdG_LJElN"
      },
      "execution_count": null,
      "outputs": []
    }
  ]
}