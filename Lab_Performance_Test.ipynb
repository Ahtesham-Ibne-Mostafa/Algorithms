{
  "nbformat": 4,
  "nbformat_minor": 0,
  "metadata": {
    "colab": {
      "provenance": [],
      "authorship_tag": "ABX9TyNCGoQbtuQhZMm048pAHTL3",
      "include_colab_link": true
    },
    "kernelspec": {
      "name": "python3",
      "display_name": "Python 3"
    },
    "language_info": {
      "name": "python"
    }
  },
  "cells": [
    {
      "cell_type": "markdown",
      "metadata": {
        "id": "view-in-github",
        "colab_type": "text"
      },
      "source": [
        "<a href=\"https://colab.research.google.com/github/Ahtesham-Ibne-Mostafa/Algorithms/blob/main/Lab_Performance_Test.ipynb\" target=\"_parent\"><img src=\"https://colab.research.google.com/assets/colab-badge.svg\" alt=\"Open In Colab\"/></a>"
      ]
    },
    {
      "cell_type": "code",
      "execution_count": null,
      "metadata": {
        "colab": {
          "base_uri": "https://localhost:8080/"
        },
        "id": "hRBL0RqhF7n4",
        "outputId": "1a9d972a-9f88-4264-ec0a-8039a466b6e5"
      },
      "outputs": [
        {
          "output_type": "execute_result",
          "data": {
            "text/plain": [
              "1"
            ]
          },
          "metadata": {},
          "execution_count": 16
        }
      ],
      "source": [
        "\n",
        "nodes = 5\n",
        "edges = [[0,1],[1,2],[2,3],[3,4]]\n",
        "\n",
        "\n",
        "def count_components(nodes, edges):\n",
        "\n",
        "    graph = [[] for _ in range(nodes)]\n",
        "    for a, b in edges:\n",
        "        graph[a].append(b)\n",
        "        graph[b].append(a)\n",
        "\n",
        "    def dfs(node,visited):\n",
        "        visited[node] = True\n",
        "        for neighbor in graph[node]:\n",
        "            if not visited[neighbor]:\n",
        "                dfs(neighbor, visited)\n",
        "\n",
        "    visited = [False] * nodes\n",
        "    count = 0\n",
        "    for i in range(nodes):\n",
        "        if not visited[i]:\n",
        "            dfs(i, visited)\n",
        "            count += 1\n",
        "\n",
        "    return count\n",
        "\n",
        "count_components(nodes, edges)"
      ]
    },
    {
      "cell_type": "code",
      "source": [],
      "metadata": {
        "id": "7CKzNw3nMJil"
      },
      "execution_count": null,
      "outputs": []
    }
  ]
}