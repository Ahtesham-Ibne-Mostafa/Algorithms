{
  "nbformat": 4,
  "nbformat_minor": 0,
  "metadata": {
    "colab": {
      "provenance": [],
      "authorship_tag": "ABX9TyNglPhL3oEhBISgYa9X1mZ3",
      "include_colab_link": true
    },
    "kernelspec": {
      "name": "python3",
      "display_name": "Python 3"
    },
    "language_info": {
      "name": "python"
    }
  },
  "cells": [
    {
      "cell_type": "markdown",
      "metadata": {
        "id": "view-in-github",
        "colab_type": "text"
      },
      "source": [
        "<a href=\"https://colab.research.google.com/github/Ahtesham-Ibne-Mostafa/Algorithms/blob/main/LAB06_CSE221.ipynb\" target=\"_parent\"><img src=\"https://colab.research.google.com/assets/colab-badge.svg\" alt=\"Open In Colab\"/></a>"
      ]
    },
    {
      "cell_type": "code",
      "execution_count": null,
      "metadata": {
        "id": "-B-a7z5_DOxQ"
      },
      "outputs": [],
      "source": [
        "#Task1\n",
        "\n",
        "test_file = open(\"/content/drive/MyDrive/Colab Notebooks/CSE221/input1.txt\" , mode = \"r\")\n",
        "result_file = open(\"/content/drive/MyDrive/Colab Notebooks/CSE221/output1.txt\" , mode = \"w\")\n",
        "n , m = map(int,test_file.readline().split(\" \"))\n",
        "list1 = [[-1] * n for i in range(n)]\n",
        "for j in range(m):\n",
        "  u , v, w = map(int,test_file.readline().split(\" \"))\n",
        "  list1[u-1][v-1] = w\n",
        "src = int(test_file.readline())-1\n",
        "distance = [float(\"infinity\")] * n\n",
        "distance[src] = 0\n",
        "visit = [False] * n\n",
        "for a in range(n):\n",
        "  minimum_distance = float(\"infinity\")\n",
        "  minimum_node = -1\n",
        "  for b in range(n):\n",
        "    if(visit[b] == False and distance[b] < minimum_distance):\n",
        "      minimum_distance = distance[b]\n",
        "      minimum_node = b\n",
        "  if (minimum_node == -1):\n",
        "    break\n",
        "  visit[minimum_node] = True\n",
        "  for k in range(n):\n",
        "    if(list1[minimum_node][k] != -1):\n",
        "      n_distance = distance[minimum_node] + list1[minimum_node][k]\n",
        "      if(n_distance < distance[k]):\n",
        "        distance[k] = n_distance\n",
        "for c in range(n):\n",
        "  if(distance[c] == float(\"infinity\")):\n",
        "    print(\"-1\" , end =\" \",file = result_file)\n",
        "  else:\n",
        "    print(distance[c] , end =\" \", file = result_file)\n",
        "test_file.close()\n",
        "result_file.close()"
      ]
    },
    {
      "cell_type": "code",
      "source": [
        "#Task 2\n",
        "\n",
        "import heapq\n",
        "\n",
        "tests_file = open('/content/drive/MyDrive/Colab Notebooks/CSE221/input2.txt', mode ='r')\n",
        "\n",
        "result_file = open(\"/content/drive/MyDrive/Colab Notebooks/CSE221/output2.txt\" , mode = \"w\")\n",
        "\n",
        "test_file=tests_file.readlines()\n",
        "\n",
        "def dijkstra(graph, start):\n",
        "    n = len(graph)\n",
        "    dist = [float('inf')] * n\n",
        "    dist[start] = 0\n",
        "    pq = [(0, start)]\n",
        "    while pq:\n",
        "        d, u = heapq.heappop(pq)\n",
        "        if d > dist[u]:\n",
        "            continue\n",
        "        for v, w in graph[u]:\n",
        "            if dist[u] + w < dist[v]:\n",
        "                dist[v] = dist[u] + w\n",
        "                heapq.heappush(pq, (dist[v], v))\n",
        "    return dist\n",
        "\n",
        "n, m = map(int, test_file[0].split(' '))\n",
        "graph = [[] for _ in range(n)]\n",
        "for i in range(1,m+1):\n",
        "    u, v, w = map(int, test_file[i].split(' '))\n",
        "    graph[u-1].append((v-1, w))\n",
        "s, t = map(int, test_file[len(test_file)-1].split(' '))\n",
        "s -= 1\n",
        "t -= 1\n",
        "\n",
        "\n",
        "distS = dijkstra(graph, s)\n",
        "distT = dijkstra(graph, t)\n",
        "\n",
        "minSum = float('inf')\n",
        "node = -1\n",
        "\n",
        "for i in range(n):\n",
        "    if distS[i] != float('inf') and distT[i] != float('inf'):\n",
        "        sumDist = distS[i] + distT[i]\n",
        "        if sumDist < minSum:\n",
        "            minSum = sumDist\n",
        "            node = i\n",
        "\n",
        "if node == -1:\n",
        "    print(\"Impossible\", file = result_file)\n",
        "else:\n",
        "    print('Time',minSum,'\\nNode', node+1,file = result_file)\n",
        "    \n",
        "tests_file.close()\n",
        "result_file.close()"
      ],
      "metadata": {
        "id": "gkp2ThocDb83"
      },
      "execution_count": null,
      "outputs": []
    },
    {
      "cell_type": "code",
      "source": [
        "# Task 3\n",
        "\n",
        "test_file = open(\"/content/drive/MyDrive/Colab Notebooks/CSE221/input3.txt\" , mode = \"r\")\n",
        "result_file = open(\"/content/drive/MyDrive/Colab Notebooks/CSE221/output3.txt\" , mode = \"w\")\n",
        "n , m = map(int, test_file.readline().split(\" \"))\n",
        "list1 = [[] for i in range(n)]\n",
        "for j in range(m):\n",
        "  u , v , w = map(int, test_file.readline().split(\" \"))\n",
        "  list1[u -1].append((v -1 , w))\n",
        "distance = [float(\"infinity\")] * n\n",
        "distance[0] = 0\n",
        "visit = [False] * n\n",
        "for k in range(n):\n",
        "  minimum_distance = float(\"infinity\")\n",
        "  minimum_node = None\n",
        "  for i in range(n):\n",
        "    if(visit[i] == False and distance[i] < minimum_distance):\n",
        "      minimum_distance = distance[i]\n",
        "      minimum_node = i\n",
        "  if (minimum_node is None):\n",
        "    if(any(visit) == True):\n",
        "      print(\"Impossible\" , file = result_file)\n",
        "    break\n",
        "  if (minimum_node == n -1):\n",
        "    print(minimum_distance,file = result_file)\n",
        "    break\n",
        "  visit[minimum_node] = True\n",
        "  for a , b in list1[minimum_node]:\n",
        "    d = max(minimum_distance , b)\n",
        "    if(d< distance[a]):\n",
        "      distance[a] = d\n",
        "if (minimum_node != n-1):\n",
        "  if(any(visit) == False):\n",
        "    print(\"Impossible\",file = result_file)\n",
        "test_file.close()\n",
        "result_file.close()"
      ],
      "metadata": {
        "id": "Zsd-0TrDDexY"
      },
      "execution_count": null,
      "outputs": []
    },
    {
      "cell_type": "code",
      "source": [
        "from google.colab import drive\n",
        "drive.mount('/content/drive')"
      ],
      "metadata": {
        "colab": {
          "base_uri": "https://localhost:8080/"
        },
        "id": "lwPCBVMCDgly",
        "outputId": "1f1d276c-9f24-405e-9f9b-5b9f745a22d1"
      },
      "execution_count": null,
      "outputs": [
        {
          "output_type": "stream",
          "name": "stdout",
          "text": [
            "Mounted at /content/drive\n"
          ]
        }
      ]
    },
    {
      "cell_type": "code",
      "source": [],
      "metadata": {
        "id": "lahu7853DhRM"
      },
      "execution_count": null,
      "outputs": []
    }
  ]
}