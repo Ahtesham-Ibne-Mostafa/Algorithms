{
  "nbformat": 4,
  "nbformat_minor": 0,
  "metadata": {
    "colab": {
      "provenance": [],
      "mount_file_id": "https://github.com/Ahtesham-Ibne-Mostafa/Algorithms/blob/main/CSE221_LAB_5.ipynb",
      "authorship_tag": "ABX9TyNcLvMB0NzMFbCchkVGijCd",
      "include_colab_link": true
    },
    "kernelspec": {
      "name": "python3",
      "display_name": "Python 3"
    },
    "language_info": {
      "name": "python"
    }
  },
  "cells": [
    {
      "cell_type": "markdown",
      "metadata": {
        "id": "view-in-github",
        "colab_type": "text"
      },
      "source": [
        "<a href=\"https://colab.research.google.com/github/Ahtesham-Ibne-Mostafa/Algorithms/blob/main/CSE221_LAB_5.ipynb\" target=\"_parent\"><img src=\"https://colab.research.google.com/assets/colab-badge.svg\" alt=\"Open In Colab\"/></a>"
      ]
    },
    {
      "cell_type": "code",
      "execution_count": 14,
      "metadata": {
        "id": "5cmmFp_uBPRw"
      },
      "outputs": [],
      "source": [
        "# Task 1 a\n",
        "\n",
        "inp_file = open ('/content/drive/MyDrive/Colab Notebooks/CSE221/input1a.txt', mode ='r')\n",
        "data = inp_file.readlines()  # data = list\n",
        "out_file= open ('/content/drive/MyDrive/Colab Notebooks/CSE221/output1a.txt', mode ='w')\n",
        "a=[]\n",
        "for i in range(int(data[0].split(' ')[0])+1):\n",
        "    b=[0]*(int(data[0].split(' ')[0])+1)\n",
        "    a.append(b)\n",
        "for i in range(1,int(data[0].split(' ')[1])+1):\n",
        "    f=list(map(int, data[i].strip().split(' ')))\n",
        "    a[f[0]][f[1]]=f[2]\n",
        "for i in a:\n",
        "    print(*i,file=out_file)"
      ]
    },
    {
      "cell_type": "code",
      "source": [
        "# Task 1 b\n",
        "\n",
        "inp_file = open ('/content/drive/MyDrive/Colab Notebooks/CSE221/input1b.txt', mode ='r')\n",
        "data = inp_file.readlines()  # data = list\n",
        "out_file= open ('/content/drive/MyDrive/Colab Notebooks/CSE221/output1b.txt', mode ='w')\n",
        "a={}\n",
        "for i in range(1,int(data[0].split(' ')[1])+1):\n",
        "    f=data[i].split(' ')\n",
        "    if int(f[0]) not in a.keys():\n",
        "        a[int(f[0])]=[(int(f[1]),int(f[2]))]\n",
        "    else:\n",
        "        a[int(f[0])].append((int(f[1]),int(f[2])))\n",
        "for i in range(int(data[0].split(' ')[1])):\n",
        "    if i not in a.keys():\n",
        "        print(i,':',file=out_file)\n",
        "    else:\n",
        "        print(i,':',*a[i],file=out_file)"
      ],
      "metadata": {
        "id": "TcGpWljtCV8X"
      },
      "execution_count": 15,
      "outputs": []
    },
    {
      "cell_type": "code",
      "source": [
        "# Task 2\n",
        "\n",
        "inp_file = open ('/content/drive/MyDrive/Colab Notebooks/CSE221/input2.txt', mode ='r')\n",
        "data = inp_file.readlines()  # data = list\n",
        "out_file= open ('/content/drive/MyDrive/Colab Notebooks/CSE221/output2.txt', mode ='w')\n",
        "\n",
        "a={}\n",
        "for i in range(1,int(data[0].split(' ')[1])+1):\n",
        "    f=data[i].split(' ')\n",
        "    if int(f[0]) not in a.keys():\n",
        "        a[int(f[0])]=[int(f[1])]\n",
        "    else:\n",
        "        a[int(f[0])].append(int(f[1]))\n",
        "q=[1]\n",
        "final=[]\n",
        "while q!=[]:\n",
        "    if q[0] in a.keys():\n",
        "        for i in a[q[0]]:\n",
        "            q.append(i)\n",
        "    if q[0] not in final:\n",
        "        final.append(q[0])\n",
        "    q.remove(q[0])\n",
        "print(*final,file=out_file)"
      ],
      "metadata": {
        "id": "iSb-ZOMYPOda"
      },
      "execution_count": 24,
      "outputs": []
    },
    {
      "cell_type": "code",
      "source": [
        "# task 3\n",
        "\n",
        "inp_file = open ('/content/drive/MyDrive/Colab Notebooks/CSE221/input3.txt', mode ='r')\n",
        "data = inp_file.readlines()  # data = list\n",
        "out_file= open ('/content/drive/MyDrive/Colab Notebooks/CSE221/output3.txt', mode ='w')\n",
        "\n",
        "def dfs(graph, curr, visited):\n",
        "    # mark the current node as visited\n",
        "    visited[curr-1] = True\n",
        "    \n",
        "    print(curr, end=' ',file=out_file)\n",
        "    \n",
        "    # visit all the neighbors of the current node\n",
        "    for neighbor in graph[curr]:\n",
        "        if not visited[neighbor-1]:\n",
        "            dfs(graph, neighbor, visited)\n",
        "\n",
        "n, m = map(int, data[0].split(' '))\n",
        "graph = [[] for _ in range(n+1)]\n",
        "\n",
        "for i in range(1,m+1):\n",
        "    u, v = map(int, data[i].split(' '))\n",
        "    graph[u].append(v)\n",
        "    graph[v].append(u)\n",
        "\n",
        "visited = [False] * n\n",
        "dfs(graph, 1, visited)\n"
      ],
      "metadata": {
        "id": "bJy_CQdc0aFI"
      },
      "execution_count": 32,
      "outputs": []
    },
    {
      "cell_type": "code",
      "source": [
        "# task 4\n",
        "\n",
        "inp_file = open ('/content/drive/MyDrive/Colab Notebooks/CSE221/input4.txt', mode ='r')\n",
        "data = inp_file.readlines()  # data = list\n",
        "out_file= open ('/content/drive/MyDrive/Colab Notebooks/CSE221/output4.txt', mode ='w')\n",
        "\n",
        "def has_cycle(graph, curr, visited, stack):\n",
        "    visited[curr-1] = True\n",
        "    stack[curr-1] = True\n",
        "    \n",
        "    for neighbor in graph[curr]:\n",
        "        if not visited[neighbor-1]:\n",
        "            if has_cycle(graph, neighbor, visited, stack):\n",
        "                return True\n",
        "        elif stack[neighbor-1]:\n",
        "            return True\n",
        "    \n",
        "    stack[curr-1] = False\n",
        "    return False\n",
        "\n",
        "n, m = map(int, data[0].split(' '))\n",
        "graph = [[] for _ in range(n+1)]\n",
        "\n",
        "for i in range(1,m+1):\n",
        "    u, v = map(int, data[i].split(' '))\n",
        "    graph[u].append(v)\n",
        "\n",
        "visited = [False] * n\n",
        "stack = [False] * n\n",
        "\n",
        "for i in range(1, n+1):\n",
        "    if not visited[i-1]:\n",
        "        if has_cycle(graph, i, visited, stack):\n",
        "            print(\"YES\",file=out_file)\n",
        "            break\n",
        "else:\n",
        "    print(\"NO\",file=out_file)\n"
      ],
      "metadata": {
        "id": "_XuP7iu82QkQ"
      },
      "execution_count": 42,
      "outputs": []
    },
    {
      "cell_type": "code",
      "source": [
        "# Task 5\n",
        "\n",
        "import heapq\n",
        "\n",
        "inp_file = open ('/content/drive/MyDrive/Colab Notebooks/CSE221/input5.txt', mode ='r')\n",
        "data = inp_file.readlines()  # data = list\n",
        "out_file= open ('/content/drive/MyDrive/Colab Notebooks/CSE221/output5.txt', mode ='w')\n",
        "\n",
        "def dijkstra(graph, start, end):\n",
        "    n = len(graph)\n",
        "    dist = [float('inf')] * n\n",
        "    parent = [-1] * n\n",
        "    dist[start] = 0\n",
        "    q = [(0, start)]\n",
        "\n",
        "    while q:\n",
        "        d, u = heapq.heappop(q)\n",
        "        if d != dist[u]:\n",
        "            continue\n",
        "        if u == end:\n",
        "            break\n",
        "        for v in graph[u]:\n",
        "            if dist[u] + 1 < dist[v]:\n",
        "                dist[v] = dist[u] + 1\n",
        "                parent[v] = u\n",
        "                heapq.heappush(q, (dist[v], v))\n",
        "\n",
        "    path = [end]\n",
        "    while path[-1] != start:\n",
        "        path.append(parent[path[-1]])\n",
        "    path.reverse()\n",
        "    return dist[end], path\n",
        "\n",
        "n, m, d = map(int, data[0].split(' '))\n",
        "graph = [[] for _ in range(n)]\n",
        "for i in range(1,m):\n",
        "    u, v = map(int, data[i].split(' '))\n",
        "    graph[u-1].append(v-1)\n",
        "    graph[v-1].append(u-1)\n",
        "\n",
        "dist, path = dijkstra(graph, 0, d-1)\n",
        "print('Time:',dist,file=out_file)\n",
        "print('Shortest Path:',' '.join(str(x+1) for x in path),file=out_file)"
      ],
      "metadata": {
        "id": "e1DH-VAR4AsV",
        "outputId": "65004446-ddd8-4a8a-9ab2-e0c7f8d6edcf",
        "colab": {
          "base_uri": "https://localhost:8080/"
        }
      },
      "execution_count": 49,
      "outputs": [
        {
          "output_type": "stream",
          "name": "stdout",
          "text": [
            "0\n",
            "1\n"
          ]
        }
      ]
    },
    {
      "cell_type": "code",
      "source": [
        "# Task 6\n",
        "\n",
        "inp_file = open ('/content/drive/MyDrive/Colab Notebooks/CSE221/input6.txt', mode ='r')\n",
        "data = inp_file.readlines()  # data = list\n",
        "out_file= open ('/content/drive/MyDrive/Colab Notebooks/CSE221/output6.txt', mode ='w')\n",
        "\n",
        "R, C = map(int, data[0].split(' '))\n",
        "\n",
        "grid = []\n",
        "for i in range(1,R+1):\n",
        "    row = data[i].strip()\n",
        "    grid.append(row)\n",
        "\n",
        "max_diamonds = 0\n",
        "for r in range(R):\n",
        "    for c in range(C):\n",
        "        if grid[r][c] != '#':\n",
        "            diamonds = 0\n",
        "            stack = [(r, c)]\n",
        "            while stack:\n",
        "                x, y = stack.pop()\n",
        "                if grid[x][y] == 'D':\n",
        "                    diamonds += 1\n",
        "                grid[x] = grid[x][:y] + '#' + grid[x][y+1:]\n",
        "                if x > 0 and grid[x-1][y] != '#':\n",
        "                    stack.append((x-1, y))\n",
        "                if x < R-1 and grid[x+1][y] != '#':\n",
        "                    stack.append((x+1, y))\n",
        "                if y > 0 and grid[x][y-1] != '#':\n",
        "                    stack.append((x, y-1))\n",
        "                if y < C-1 and grid[x][y+1] != '#':\n",
        "                    stack.append((x, y+1))\n",
        "            max_diamonds = max(max_diamonds, diamonds)\n",
        "\n",
        "print(max_diamonds,file=out_file)"
      ],
      "metadata": {
        "id": "ok4pSI0g7qPo",
        "outputId": "ca67e78e-aad6-46b0-8999-b16a6cf3cb5a",
        "colab": {
          "base_uri": "https://localhost:8080/"
        }
      },
      "execution_count": 60,
      "outputs": [
        {
          "output_type": "stream",
          "name": "stdout",
          "text": [
            "15\n"
          ]
        }
      ]
    },
    {
      "cell_type": "code",
      "source": [
        "# Bonus Task 7\n",
        "\n",
        "from collections import defaultdict\n",
        "\n",
        "inp_file = open ('/content/drive/MyDrive/Colab Notebooks/CSE221/input7.txt', mode ='r')\n",
        "data = inp_file.readlines()  # data = list\n",
        "out_file= open ('/content/drive/MyDrive/Colab Notebooks/CSE221/output7.txt', mode ='w')\n",
        "\n",
        "def dfs(node, visited, graph):\n",
        "    visited[node] = True\n",
        "    max_dist, max_node = 0, node\n",
        "    for neighbor in graph[node]:\n",
        "        if not visited[neighbor]:\n",
        "            dist, farthest_node = dfs(neighbor, visited, graph)\n",
        "            if dist + 1 > max_dist:\n",
        "                max_dist = dist + 1\n",
        "                max_node = farthest_node\n",
        "    return max_dist, max_node\n",
        "\n",
        "def find_max_distance(n, edges):\n",
        "    graph = defaultdict(list)\n",
        "    for u, v in edges:\n",
        "        graph[u].append(v)\n",
        "        graph[v].append(u)\n",
        "    visited = [False] * (n + 1)\n",
        "    dist, node = dfs(1, visited, graph)\n",
        "    visited = [False] * (n + 1)\n",
        "    max_dist, _ = dfs(node, visited, graph)\n",
        "    return (node, _)\n",
        "\n",
        "n = int(data[0])\n",
        "edges = []\n",
        "for i in range(1,n):\n",
        "    u, v = map(int, data[i].split())\n",
        "    edges.append((u, v))\n",
        "\n",
        "a, b = find_max_distance(n, edges)\n",
        "print(a, b,file=out_file)\n"
      ],
      "metadata": {
        "id": "5jRjVtrn__zU"
      },
      "execution_count": 65,
      "outputs": []
    },
    {
      "cell_type": "code",
      "source": [
        "from collections import defaultdict\n",
        "\n",
        "def max_bipartite_nodes(graph):\n",
        "    visited = defaultdict(bool)\n",
        "    colors = defaultdict(lambda: -1)\n",
        "\n",
        "    def dfs(node, color):\n",
        "        visited[node] = True\n",
        "        colors[node] = color\n",
        "\n",
        "        max_nodes = 1\n",
        "        for neighbor in graph[node]:\n",
        "            if not visited[neighbor]:\n",
        "                max_nodes += dfs(neighbor, 1 - color)\n",
        "            elif colors[node] == colors[neighbor]:\n",
        "                max_nodes = 0\n",
        "\n",
        "        return max_nodes\n",
        "\n",
        "    max_nodes = 0\n",
        "    for node in graph:\n",
        "        if not visited[node]:\n",
        "            max_nodes += dfs(node, 0)\n",
        "\n",
        "    return max_nodes\n",
        "\n",
        "\n",
        "t = int(input())\n",
        "\n",
        "for case in range(1, t+1):\n",
        "    n = int(input())\n",
        "    edges = [tuple(map(int, input().split())) for i in range(n)]\n",
        "\n",
        "    graph = defaultdict(list)\n",
        "    for u, v in edges:\n",
        "        graph[u].append(v)\n",
        "        graph[v].append(u)\n",
        "\n",
        "    max_nodes = max_bipartite_nodes(graph)\n",
        "\n",
        "    print(\"Case {}: {}\".format(case, max_nodes))\n",
        "\n"
      ],
      "metadata": {
        "id": "oaN9sjAiA1kl"
      },
      "execution_count": null,
      "outputs": []
    },
    {
      "cell_type": "code",
      "source": [],
      "metadata": {
        "id": "lZDikSAYDmB7"
      },
      "execution_count": null,
      "outputs": []
    }
  ]
}