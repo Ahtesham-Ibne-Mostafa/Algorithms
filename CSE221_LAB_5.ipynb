{
  "nbformat": 4,
  "nbformat_minor": 0,
  "metadata": {
    "colab": {
      "provenance": [],
      "mount_file_id": "1j1iaAu5Y4WTkFfKpcdaVLidJmRUgZ2mJ",
      "authorship_tag": "ABX9TyP51K5edsgxv2yPBik7qSve",
      "include_colab_link": true
    },
    "kernelspec": {
      "name": "python3",
      "display_name": "Python 3"
    },
    "language_info": {
      "name": "python"
    }
  },
  "cells": [
    {
      "cell_type": "markdown",
      "metadata": {
        "id": "view-in-github",
        "colab_type": "text"
      },
      "source": [
        "<a href=\"https://colab.research.google.com/github/Ahtesham-Ibne-Mostafa/Algorithms/blob/main/CSE221_LAB_5.ipynb\" target=\"_parent\"><img src=\"https://colab.research.google.com/assets/colab-badge.svg\" alt=\"Open In Colab\"/></a>"
      ]
    },
    {
      "cell_type": "code",
      "execution_count": 33,
      "metadata": {
        "id": "5cmmFp_uBPRw"
      },
      "outputs": [],
      "source": [
        "# Task 1 a\n",
        "\n",
        "inp_file = open ('/content/drive/MyDrive/Colab Notebooks/CSE221/input1a.txt', mode ='r')\n",
        "data = inp_file.readlines()  # data = list\n",
        "out_file= open ('/content/drive/MyDrive/Colab Notebooks/CSE221/output1a.txt', mode ='w')\n",
        "a=[]\n",
        "for i in range(int(data[0].split(' ')[0])+1):\n",
        "    b=[0]*(int(data[0].split(' ')[0])+1)\n",
        "    a.append(b)\n",
        "for i in range(1,int(data[0].split(' ')[1])+1):\n",
        "    f=list(map(int, data[i].strip().split(' ')))\n",
        "    a[f[0]][f[1]]=f[2]\n",
        "for i in a:\n",
        "    print(*i,file=out_file)"
      ]
    },
    {
      "cell_type": "code",
      "source": [
        "# Task 1 b\n",
        "\n",
        "inp_file = open ('/content/drive/MyDrive/Colab Notebooks/CSE221/input1b.txt', mode ='r')\n",
        "data = inp_file.readlines()  # data = list\n",
        "out_file= open ('/content/drive/MyDrive/Colab Notebooks/CSE221/output1b.txt', mode ='w')\n",
        "\n"
      ],
      "metadata": {
        "colab": {
          "base_uri": "https://localhost:8080/"
        },
        "id": "TcGpWljtCV8X",
        "outputId": "554ac9e9-6357-414f-dff1-9c1fc1660670"
      },
      "execution_count": 27,
      "outputs": [
        {
          "output_type": "stream",
          "name": "stdout",
          "text": [
            "6\n"
          ]
        }
      ]
    },
    {
      "cell_type": "code",
      "source": [],
      "metadata": {
        "id": "iSb-ZOMYPOda"
      },
      "execution_count": null,
      "outputs": []
    }
  ]
}