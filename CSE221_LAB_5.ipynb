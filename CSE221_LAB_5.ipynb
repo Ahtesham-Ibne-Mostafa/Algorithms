{
  "nbformat": 4,
  "nbformat_minor": 0,
  "metadata": {
    "colab": {
      "provenance": [],
      "mount_file_id": "https://github.com/Ahtesham-Ibne-Mostafa/Algorithms/blob/main/CSE221_LAB_5.ipynb",
      "authorship_tag": "ABX9TyMoUJrJ/oS1C/4hbHsboJo6",
      "include_colab_link": true
    },
    "kernelspec": {
      "name": "python3",
      "display_name": "Python 3"
    },
    "language_info": {
      "name": "python"
    }
  },
  "cells": [
    {
      "cell_type": "markdown",
      "metadata": {
        "id": "view-in-github",
        "colab_type": "text"
      },
      "source": [
        "<a href=\"https://colab.research.google.com/github/Ahtesham-Ibne-Mostafa/Algorithms/blob/main/CSE221_LAB_5.ipynb\" target=\"_parent\"><img src=\"https://colab.research.google.com/assets/colab-badge.svg\" alt=\"Open In Colab\"/></a>"
      ]
    },
    {
      "cell_type": "code",
      "execution_count": 1,
      "metadata": {
        "id": "5cmmFp_uBPRw"
      },
      "outputs": [],
      "source": [
        "# Task 1 a\n",
        "\n",
        "inp_file = open ('/content/drive/MyDrive/Colab Notebooks/CSE221/input1a.txt', mode ='r')\n",
        "data = inp_file.readlines()  # data = list\n",
        "out_file= open ('/content/drive/MyDrive/Colab Notebooks/CSE221/output1a.txt', mode ='w')\n",
        "a=[]\n",
        "for i in range(int(data[0].split(' ')[0])+1):\n",
        "    b=[0]*(int(data[0].split(' ')[0])+1)\n",
        "    a.append(b)\n",
        "for i in range(1,int(data[0].split(' ')[1])+1):\n",
        "    f=list(map(int, data[i].strip().split(' ')))\n",
        "    a[f[0]][f[1]]=f[2]\n",
        "for i in a:\n",
        "    print(*i,file=out_file)"
      ]
    },
    {
      "cell_type": "code",
      "source": [
        "# Task 1 b\n",
        "\n",
        "inp_file = open ('/content/drive/MyDrive/Colab Notebooks/CSE221/input1b.txt', mode ='r')\n",
        "data = inp_file.readlines()  # data = list\n",
        "out_file= open ('/content/drive/MyDrive/Colab Notebooks/CSE221/output1b.txt', mode ='w')\n",
        "a={}\n",
        "for i in range(1,int(data[0].split(' ')[1])+1):\n",
        "    f=data[i].split(' ')\n",
        "    if int(f[0]) not in a.keys():\n",
        "        a[int(f[0])]=[(int(f[1]),int(f[2]))]\n",
        "    else:\n",
        "        a[int(f[0])].append((int(f[1]),int(f[2])))\n",
        "for i in range(int(data[0].split(' ')[1])):\n",
        "    if i not in a.keys():\n",
        "        print(i,':',file=out_file)\n",
        "    else:\n",
        "        print(i,':',*a[i],file=out_file)"
      ],
      "metadata": {
        "id": "TcGpWljtCV8X"
      },
      "execution_count": 14,
      "outputs": []
    },
    {
      "cell_type": "code",
      "source": [
        "# Task 2\n",
        "\n"
      ],
      "metadata": {
        "id": "iSb-ZOMYPOda"
      },
      "execution_count": null,
      "outputs": []
    }
  ]
}