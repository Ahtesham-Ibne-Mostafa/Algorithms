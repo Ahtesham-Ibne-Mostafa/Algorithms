{
  "nbformat": 4,
  "nbformat_minor": 0,
  "metadata": {
    "colab": {
      "provenance": [],
      "mount_file_id": "1tqR0Tz-iBc7o0Z7mX4qrChL_ZwdCC9QW",
      "authorship_tag": "ABX9TyPMRMjrjtxe0onit5i5enjc",
      "include_colab_link": true
    },
    "kernelspec": {
      "name": "python3",
      "display_name": "Python 3"
    },
    "language_info": {
      "name": "python"
    }
  },
  "cells": [
    {
      "cell_type": "markdown",
      "metadata": {
        "id": "view-in-github",
        "colab_type": "text"
      },
      "source": [
        "<a href=\"https://colab.research.google.com/github/Ahtesham-Ibne-Mostafa/Algorithms/blob/main/CSE221_Lab7%2B8.ipynb\" target=\"_parent\"><img src=\"https://colab.research.google.com/assets/colab-badge.svg\" alt=\"Open In Colab\"/></a>"
      ]
    },
    {
      "cell_type": "code",
      "execution_count": 9,
      "metadata": {
        "colab": {
          "base_uri": "https://localhost:8080/"
        },
        "id": "x7OpNn-Pr70i",
        "outputId": "30d63d60-f5a2-4546-9c89-20d5e2df6330"
      },
      "outputs": [
        {
          "output_type": "stream",
          "name": "stdout",
          "text": [
            "2\n",
            "2 5\n",
            "6 7\n"
          ]
        }
      ],
      "source": [
        "# Task 1\n",
        "\n",
        "test_file = open (\"/content/drive/MyDrive/Colab Notebooks/CSE221/input1.txt\" , mode = \"r\")\n",
        "result_file = open (\"/content/drive/MyDrive/Colab Notebooks/CSE221/output1.txt\" , mode = \"w\")\n",
        "line1 = int(test_file.readline())\n",
        "list1=[]\n",
        "for i in range(line1):\n",
        "  first , second = map(int,test_file.readline().strip().split(\" \"))\n",
        "  list1.append([second ,first])\n",
        "# print(list1)\n",
        "list1.sort()\n",
        "# print(list1)\n",
        "count = 1\n",
        "temp = list1[0]\n",
        "f1 = temp[::-1]\n",
        "ans = [f1]\n",
        "for j in range(line1 - 1):\n",
        "  for k in range(1 , line1):\n",
        "    if(list1[k][1] >= temp [0]):\n",
        "      count+=1\n",
        "      temp = list1[k]\n",
        "      out = temp[::-1]\n",
        "      ans.append(out)\n",
        "print(count)\n",
        "print(str(count), file = result_file)\n",
        "for x in ans:\n",
        "  print(str(x[0]) + \" \" + str(x[1]), file = result_file)\n",
        "  print(* x )\n",
        "test_file.close()\n",
        "result_file.close()"
      ]
    },
    {
      "cell_type": "code",
      "source": [
        "# Task 2\n",
        "\n",
        "def find(parent, i):\n",
        "\n",
        "    if parent[i] == i:\n",
        "        return i\n",
        "    parent[i] = find(parent, parent[i])\n",
        "    return parent[i]\n",
        "\n",
        "def merge(parent, size, i, j):\n",
        "\n",
        "    root_i = find(parent, i)\n",
        "    root_j = find(parent, j)\n",
        "    if root_i != root_j:\n",
        "        parent[root_i] = root_j\n",
        "        size[root_j] += size[root_i]\n",
        "\n",
        "result_file = open (\"/content/drive/MyDrive/Colab Notebooks/CSE221/output1.txt\" , mode = \"w\")\n",
        "with open(\"/content/drive/MyDrive/Colab Notebooks/CSE221/input2.txt\", \"r\") as f:\n",
        "    n, k = map(int, f.readline().split())\n",
        "    parent = list(range(n))\n",
        "    size = [1] * n\n",
        "    for i in range(k):\n",
        "        i, j = map(int, f.readline().split())\n",
        "        merge(parent, size, i-1, j-1)\n",
        "        print(size[find(parent, i-1)],file=result_file)\n",
        "\n",
        "result_file.close()"
      ],
      "metadata": {
        "id": "kcaR_nV5tc5W"
      },
      "execution_count": 26,
      "outputs": []
    },
    {
      "cell_type": "code",
      "source": [
        "# Task 3\n",
        "\n",
        "import heapq\n",
        "\n",
        "def prim(graph, start):\n",
        "\n",
        "    visited = [False] * len(graph)\n",
        "    pq = [(0, start)]\n",
        "    mst_cost = 0\n",
        "\n",
        "    while pq:\n",
        "\n",
        "        cost, v = heapq.heappop(pq)\n",
        "\n",
        "        if visited[v]:\n",
        "            continue\n",
        "\n",
        "        visited[v] = True\n",
        "        mst_cost += cost\n",
        "\n",
        "\n",
        "        for u, c in graph[v]:\n",
        "            heapq.heappush(pq, (c, u))\n",
        "\n",
        "    return mst_cost\n",
        "\n",
        "with open(\"/content/drive/MyDrive/Colab Notebooks/CSE221/input3.txt\") as f:\n",
        "    n, m = map(int, f.readline().split())\n",
        "    graph = [[] for _ in range(n)]\n",
        "    for _ in range(m):\n",
        "        u, v, w = map(int, f.readline().split())\n",
        "        graph[u-1].append((v-1, w))\n",
        "        graph[v-1].append((u-1, w))\n",
        "mst_cost = prim(graph, 0)\n",
        "result_file = open (\"/content/drive/MyDrive/Colab Notebooks/CSE221/output3.txt\" , mode = \"w\")\n",
        "print(mst_cost,file=result_file)\n",
        "result_file.close()"
      ],
      "metadata": {
        "id": "4YFQ0l5w8ReL"
      },
      "execution_count": 45,
      "outputs": []
    },
    {
      "cell_type": "code",
      "source": [
        "# Task 4\n",
        "\n",
        "def countWays(n):\n",
        "    if n == 1:\n",
        "        return 1\n",
        "    if n == 2:\n",
        "        return 2\n",
        "    \n",
        "    a, b = 1, 2\n",
        "    for i in range(3, n+1):\n",
        "        c = a + b\n",
        "        a, b = b, c\n",
        "    \n",
        "    return b\n",
        "\n",
        "result_file = open (\"/content/drive/MyDrive/Colab Notebooks/CSE221/output4.txt\" , mode = \"w\")\n",
        "with open(\"/content/drive/MyDrive/Colab Notebooks/CSE221/input4.txt\", \"r\") as f:\n",
        "\n",
        "    n = int(f.readline())\n",
        "print(countWays(n),file=result_file)\n",
        "result_file.close()"
      ],
      "metadata": {
        "colab": {
          "base_uri": "https://localhost:8080/"
        },
        "id": "s2lG1yoKzijH",
        "outputId": "b908f147-2c5d-4f7b-95aa-a8216d605692"
      },
      "execution_count": 46,
      "outputs": [
        {
          "output_type": "stream",
          "name": "stdout",
          "text": [
            "20365011074\n"
          ]
        }
      ]
    },
    {
      "cell_type": "code",
      "source": [],
      "metadata": {
        "id": "rGEtUBAb9_zt"
      },
      "execution_count": null,
      "outputs": []
    }
  ]
}