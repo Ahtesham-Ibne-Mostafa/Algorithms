{
  "nbformat": 4,
  "nbformat_minor": 0,
  "metadata": {
    "colab": {
      "provenance": [],
      "mount_file_id": "https://github.com/Ahtesham-Ibne-Mostafa/Algorithms/blob/main/CSE221_lab3.ipynb",
      "authorship_tag": "ABX9TyMSkjg2x/76JaRLtce3F/Rq",
      "include_colab_link": true
    },
    "kernelspec": {
      "name": "python3",
      "display_name": "Python 3"
    },
    "language_info": {
      "name": "python"
    }
  },
  "cells": [
    {
      "cell_type": "markdown",
      "metadata": {
        "id": "view-in-github",
        "colab_type": "text"
      },
      "source": [
        "<a href=\"https://colab.research.google.com/github/Ahtesham-Ibne-Mostafa/Algorithms/blob/main/CSE221_lab3.ipynb\" target=\"_parent\"><img src=\"https://colab.research.google.com/assets/colab-badge.svg\" alt=\"Open In Colab\"/></a>"
      ]
    },
    {
      "cell_type": "code",
      "source": [
        "# Task 1 (i)\n",
        "\n",
        "def quickSort(lst,low,high):\n",
        "    if low<high:\n",
        "        pi= partition(lst,low,high)\n",
        "        quickSort(lst,low,pi-1)\n",
        "        quickSort(lst,pi+1,high)\n",
        "\n",
        "def swap(lst,b,c):\n",
        "  lst[c],lst[b]=lst[b],lst[c]\n",
        "\n",
        "def partition(lst,low, high) :\n",
        "\n",
        "    pivot = lst[high]\n",
        "    f= low-1\n",
        "    for i in range(low,high):\n",
        "        if lst[i]<pivot:\n",
        "            f+=1\n",
        "            swap(lst,i,f)\n",
        "    swap(lst,f+1,high)\n",
        "    return (f+1)\n"
      ],
      "metadata": {
        "id": "e4p7vYTqfLhd"
      },
      "execution_count": null,
      "outputs": []
    },
    {
      "cell_type": "code",
      "execution_count": 25,
      "metadata": {
        "id": "AV1CBTupRZye",
        "colab": {
          "base_uri": "https://localhost:8080/"
        },
        "outputId": "972537f6-9bd6-4d8f-ad30-cb804cbc4a7f"
      },
      "outputs": [
        {
          "output_type": "stream",
          "name": "stdout",
          "text": [
            "[1, 5, 2, 3, 6, 9, 10]\n",
            "6\n",
            "[1, 5, 2, 3, 6, 9, 10]\n",
            "10\n",
            "[1, 2, 3, 5, 6, 9, 10]\n",
            "2\n"
          ]
        }
      ],
      "source": [
        "# Task 1 (ii)\n",
        "\n",
        "inp_file = open ('/content/drive/MyDrive/Colab Notebooks/CSE221/input1.txt', mode ='r')\n",
        "data = inp_file.readlines()  # data = list\n",
        "out_file= open ('/content/drive/MyDrive/Colab Notebooks/CSE221/output1.txt', mode ='w')\n",
        "\n",
        "\n",
        "#lst = list(map(int, data[0].split(' ')[2:]))\n",
        "lst=[1,5,2,9,3,6,10]\n",
        "\n",
        "def findK(arr, k):\n",
        "    return findKHelper(arr, 0, len(arr)-1, k)\n",
        "\n",
        "def findKHelper(arr, low, high, k):\n",
        "    if low == high:\n",
        "        return arr[low]\n",
        "    pi = partition(arr, low, high)\n",
        "    if pi == k-1:\n",
        "        return arr[pi]\n",
        "    elif pi > k-1:\n",
        "        return findKHelper(arr, low, pi-1, k)\n",
        "    else:\n",
        "        return findKHelper(arr, pi+1, high, k)\n",
        "\n",
        "for i in range(1,len(data)):\n",
        "    f=findK(lst,int(data[i].split('=')[1]))\n",
        "    print(lst)\n",
        "    print(f)\n",
        "\n",
        "inp_file.close()\n",
        "out_file.close()\n"
      ]
    },
    {
      "cell_type": "code",
      "source": [
        "# Task 2\n",
        "  \n",
        "out_file= open ('/content/drive/MyDrive/Colab Notebooks/CSE221/output2.txt', mode ='w')\n",
        "\n",
        "\n",
        "def heapify(arr, n, i):\n",
        "    smallest = i\n",
        "    l = 2 * i + 1\n",
        "    r = 2 * i + 2\n",
        "    if l < n and arr[l] < arr[smallest]:\n",
        "        smallest = l\n",
        "    if r < n and arr[r] < arr[smallest]:\n",
        "        smallest = r\n",
        "    if smallest != i:\n",
        "        arr[i], arr[smallest] = arr[smallest], arr[i]\n",
        "        heapify(arr, n, smallest)\n",
        "\n",
        "\n",
        "def add(arr, key):\n",
        "    arr.append(key)\n",
        "    n = len(arr)\n",
        "    i = n - 1\n",
        "    while i > 0 and arr[(i - 1) // 2] > arr[i]:\n",
        "        arr[i], arr[(i - 1) // 2] = arr[(i - 1) // 2], arr[i]\n",
        "        i = (i - 1) // 2\n",
        "\n",
        "\n",
        "def delete(arr, key):\n",
        "    n = len(arr)\n",
        "    i = 0\n",
        "    while i < n:\n",
        "        if arr[i] == key:\n",
        "            break\n",
        "        i += 1\n",
        "    if i == n:\n",
        "        return\n",
        "    arr[i], arr[n - 1] = arr[n - 1], arr[i]\n",
        "    arr.pop()\n",
        "    n = len(arr)\n",
        "    heapify(arr, n, i)\n",
        "\n",
        "\n",
        "def build(arr):\n",
        "    n = len(arr)\n",
        "    for i in range(n // 2 - 1, -1, -1):\n",
        "        heapify(arr, n, i)\n",
        "\n",
        "\n",
        "def swim_up(arr, i):\n",
        "    while i > 0 and arr[(i - 1) // 2] > arr[i]:\n",
        "        arr[i], arr[(i - 1) // 2] = arr[(i - 1) // 2], arr[i]\n",
        "        i = (i - 1) // 2\n",
        "\n",
        "\n",
        "def sink(arr, n, i):\n",
        "    smallest = i\n",
        "    l = 2 * i + 1\n",
        "    r = 2 * i + 2\n",
        "    if l < n and arr[l] < arr[smallest]:\n",
        "        smallest = l\n",
        "    if r < n and arr[r] < arr[smallest]:\n",
        "        smallest = r\n",
        "    if smallest != i:\n",
        "        arr[i], arr[smallest] = arr[smallest], arr[i]\n",
        "        sink(arr, n, smallest)\n",
        "\n",
        "\n",
        "def heapSort(arr):\n",
        "    n = len(arr)\n",
        "    for i in range(n // 2 - 1, -1, -1):\n",
        "        sink(arr, n, i)\n",
        "    for i in range(n - 1, 0, -1):\n",
        "        arr[0], arr[i] = arr[i], arr[0]\n",
        "        sink(arr, i, 0)\n",
        "\n",
        "\n",
        "# read the input from file\n",
        "with open('/content/drive/MyDrive/Colab Notebooks/CSE221/input2.txt', 'r') as file:\n",
        "    arr = list(map(int, file.read().split()))\n",
        "\n",
        "# build the heap\n",
        "build(arr)\n",
        "\n",
        "while True:\n",
        "    # get user command\n",
        "    command = input(\"Enter a command (A to add, B to delete, S to sort, Q to quit): \")\n",
        "\n",
        "    if command == 'A':\n",
        "        key = int(input(\"Enter a number to add: \"))\n",
        "        add(arr, key)\n",
        "\n",
        "    elif command == 'B':\n",
        "        key = int(input(\"Enter a number to delete: \"))\n",
        "        delete(arr, key)\n",
        "\n",
        "    elif command == 'S':\n",
        "        heapSort(arr)\n",
        "        print(\"Sorted array\", arr[(len(arr)-1)::-1])\n",
        "    elif command == 'Q':\n",
        "        break\n",
        "\n",
        "file.close()\n",
        "out_file.close()"
      ],
      "metadata": {
        "id": "Nq1qOxbMH_5C"
      },
      "execution_count": null,
      "outputs": []
    },
    {
      "cell_type": "code",
      "source": [
        "# Task 3 ( Bubble Sort )\n",
        "\n",
        "out_file= open ('/content/drive/MyDrive/Colab Notebooks/CSE221/output3.txt', mode ='w')\n",
        "queue = []\n",
        "\n",
        "def enque(name, priority):\n",
        "    queue.append((name, priority))\n",
        "    # sort the queue by priority using bubble sort\n",
        "    for i in range(len(queue)):\n",
        "        for j in range(i+1, len(queue)):\n",
        "            if queue[i][1] > queue[j][1]:\n",
        "                queue[i], queue[j] = queue[j], queue[i]\n",
        "\n",
        "def seeDoctor(queue):\n",
        "    if len(queue) > 0:\n",
        "        name, priority = queue.pop(0)\n",
        "        return name\n",
        "    if not queue:\n",
        "        print(\"No patients in queue\")\n",
        "\n",
        "def printQueue(queue):\n",
        "    for patient in queue:\n",
        "        print(patient[0])\n",
        "\n",
        "# process input\n",
        "inp_file = open ('/content/drive/MyDrive/Colab Notebooks/CSE221/input3.txt', mode ='r')\n",
        "file = inp_file.readlines()\n",
        "def process_Bubble(file):\n",
        "    for line in file:\n",
        "        tokens = line.split()\n",
        "        if tokens[0] == 'see':\n",
        "            name = seeDoctor(queue)\n",
        "            print(name,file=out_file)\n",
        "        else:\n",
        "            name = tokens[0]\n",
        "            priority = int(tokens[1])\n",
        "            enque(name, priority)\n",
        "process_Bubble(file)\n",
        "inp_file.close()\n",
        "out_file.close()"
      ],
      "metadata": {
        "colab": {
          "base_uri": "https://localhost:8080/"
        },
        "id": "mijFOw83dqb0",
        "outputId": "bb932559-d188-4b26-c184-8487538a935c"
      },
      "execution_count": 41,
      "outputs": [
        {
          "output_type": "stream",
          "name": "stdout",
          "text": [
            "KLM\n",
            "SDF\n",
            "FDS\n",
            "XCV\n",
            "ABC\n"
          ]
        }
      ]
    },
    {
      "cell_type": "code",
      "source": [
        "# Task 3 ( Heap Sort )\n",
        "\n",
        "out_file= open ('/content/drive/MyDrive/Colab Notebooks/CSE221/output3.txt', mode ='w')\n",
        "\n",
        "def heapify_up(lst, i):\n",
        "    while i > 0:\n",
        "        parent = (i - 1) // 2\n",
        "        if lst[parent][1] > lst[i][1]:\n",
        "            lst[parent], lst[i] = lst[i], lst[parent]\n",
        "            i = parent\n",
        "        else:\n",
        "            break\n",
        "\n",
        "def heapify_down(lst, i):\n",
        "    n = len(lst)\n",
        "    while True:\n",
        "        left = 2 * i + 1\n",
        "        right = 2 * i + 2\n",
        "        smallest = i\n",
        "        if left < n and lst[left][1] < lst[smallest][1]:\n",
        "            smallest = left\n",
        "        if right < n and lst[right][1] < lst[smallest][1]:\n",
        "            smallest = right\n",
        "        if smallest != i:\n",
        "            lst[smallest], lst[i] = lst[i], lst[smallest]\n",
        "            i = smallest\n",
        "        else:\n",
        "            break\n",
        "\n",
        "def enque(name, priority, queue):\n",
        "    queue.append((name, priority))\n",
        "    heapify_up(queue, len(queue) - 1)\n",
        "\n",
        "def seeDoctor(queue):\n",
        "    if not queue:\n",
        "        print(\"No patients in queue\")\n",
        "    else:\n",
        "        name, priority = queue[0]\n",
        "        queue[0] = queue[-1]\n",
        "        queue.pop()\n",
        "        heapify_down(queue, 0)\n",
        "        print(name,file=out_file)\n",
        "\n",
        "def printQueue(queue):\n",
        "    for name, priority in queue:\n",
        "        print(f\"{name} ({priority})\")\n",
        "\n",
        "inp_file = open ('/content/drive/MyDrive/Colab Notebooks/CSE221/input3.txt', mode ='r')\n",
        "f = inp_file.readlines()\n",
        "def process_Heap(f):\n",
        "    queue = []\n",
        "    for line in f:\n",
        "        if line.startswith('see doctor'):\n",
        "            seeDoctor(queue)\n",
        "        else:\n",
        "            name, priority = line.strip().split()\n",
        "            enque(name, int(priority), queue)\n",
        "\n",
        "process_Heap(file)\n",
        "inp_file.close()\n",
        "out_file.close()"
      ],
      "metadata": {
        "colab": {
          "base_uri": "https://localhost:8080/"
        },
        "id": "OsokHTUFge6Y",
        "outputId": "c385a1ae-6e10-4769-ac6c-54063d914fcd"
      },
      "execution_count": 42,
      "outputs": [
        {
          "output_type": "stream",
          "name": "stdout",
          "text": [
            "KLM\n",
            "SDF\n",
            "FDS\n",
            "XCV\n",
            "EWQ\n"
          ]
        }
      ]
    },
    {
      "cell_type": "code",
      "source": [
        "import time\n",
        "import math\n",
        "import matplotlib.pyplot as plt\n",
        "import numpy as np\n",
        "#change the value of n for your own experimentation\n",
        "n = 30\n",
        "x = [i for i in range(n)]\n",
        "y = [0 for i in range(n)]\n",
        "z = [0 for i in range(n)]\n",
        "for i in range(n-1):\n",
        "    start = time.time()\n",
        "    fibonacci_1(x[i+1])\n",
        "    y[i+1]= time.time()-start\n",
        "    start = time.time()\n",
        "    fibonacci_2(x[i+1])\n",
        "    z[i+1]= time.time()-start\n",
        "x_interval = math.ceil(n/10)\n",
        "plt.plot(x, y, 'r')\n",
        "plt.plot(x, z, 'b')\n",
        "plt.xticks(np.arange(min(x), max(x)+1, x_interval))\n",
        "plt.xlabel('n-th position')\n",
        "plt.ylabel('time')\n",
        "plt.title('Comparing Time Complexity!')\n",
        "plt.show()"
      ],
      "metadata": {
        "colab": {
          "base_uri": "https://localhost:8080/",
          "height": 130
        },
        "id": "c9QqQYWQofax",
        "outputId": "9c3083ec-f456-4537-ab70-5eb869d10753"
      },
      "execution_count": 33,
      "outputs": [
        {
          "output_type": "error",
          "ename": "IndentationError",
          "evalue": "ignored",
          "traceback": [
            "\u001b[0;36m  File \u001b[0;32m\"<ipython-input-33-5c9226d113c3>\"\u001b[0;36m, line \u001b[0;32m2\u001b[0m\n\u001b[0;31m    nums = [int(x) for x in f.read().split()]\u001b[0m\n\u001b[0m    ^\u001b[0m\n\u001b[0;31mIndentationError\u001b[0m\u001b[0;31m:\u001b[0m expected an indented block\n"
          ]
        }
      ]
    },
    {
      "cell_type": "code",
      "source": [],
      "metadata": {
        "id": "yevEdRfr6yhS"
      },
      "execution_count": null,
      "outputs": []
    }
  ]
}