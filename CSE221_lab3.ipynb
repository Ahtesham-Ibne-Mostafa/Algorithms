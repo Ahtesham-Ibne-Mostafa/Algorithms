{
  "nbformat": 4,
  "nbformat_minor": 0,
  "metadata": {
    "colab": {
      "provenance": [],
      "mount_file_id": "https://github.com/Ahtesham-Ibne-Mostafa/Algorithms/blob/main/CSE221_lab3.ipynb",
      "authorship_tag": "ABX9TyOkLeFQgpcoxSBTotMkZ0+x",
      "include_colab_link": true
    },
    "kernelspec": {
      "name": "python3",
      "display_name": "Python 3"
    },
    "language_info": {
      "name": "python"
    }
  },
  "cells": [
    {
      "cell_type": "markdown",
      "metadata": {
        "id": "view-in-github",
        "colab_type": "text"
      },
      "source": [
        "<a href=\"https://colab.research.google.com/github/Ahtesham-Ibne-Mostafa/Algorithms/blob/main/CSE221_lab3.ipynb\" target=\"_parent\"><img src=\"https://colab.research.google.com/assets/colab-badge.svg\" alt=\"Open In Colab\"/></a>"
      ]
    },
    {
      "cell_type": "code",
      "source": [
        "# Task 1 (i)\n",
        "\n",
        "def quickSort(lst,low,high):\n",
        "    if low<high:\n",
        "        pi= partition(lst,low,high)\n",
        "        quickSort(lst,low,pi-1)\n",
        "        quickSort(lst,pi+1,high)\n",
        "\n",
        "def swap(lst,b,c):\n",
        "  lst[c],lst[b]=lst[b],lst[c]\n",
        "\n",
        "def partition(lst,low, high) :\n",
        "\n",
        "    pivot = lst[high]\n",
        "    f= low-1\n",
        "    for i in range(low,high):\n",
        "        if lst[i]<pivot:\n",
        "            f+=1\n",
        "            swap(lst,i,f)\n",
        "    swap(lst,f+1,high)\n",
        "    return (f+1)\n"
      ],
      "metadata": {
        "id": "e4p7vYTqfLhd"
      },
      "execution_count": null,
      "outputs": []
    },
    {
      "cell_type": "code",
      "execution_count": null,
      "metadata": {
        "id": "AV1CBTupRZye",
        "colab": {
          "base_uri": "https://localhost:8080/"
        },
        "outputId": "9cf1ecf9-fef0-47ee-c9da-75e2fb71014e"
      },
      "outputs": [
        {
          "output_type": "stream",
          "name": "stdout",
          "text": [
            "9\n",
            "10\n",
            "3\n"
          ]
        }
      ],
      "source": [
        "# Task 1 (ii)\n",
        "\n",
        "inp_file = open ('/content/drive/MyDrive/Colab Notebooks/CSE221/input1.txt', mode ='r')\n",
        "data = inp_file.readlines()  # data = list\n",
        "out_file= open ('/content/drive/MyDrive/Colab Notebooks/CSE221/output1.txt', mode ='w')\n",
        "\n",
        "\n",
        "lst = list(map(int, data[0].split(' ')[2:]))\n",
        "\n",
        "def swap(lst,b,c):\n",
        "  lst[c],lst[b]=lst[b],lst[c]\n",
        "\n",
        "def partition(lst,low, high) :\n",
        "\n",
        "    pivot = lst[high]\n",
        "    f= low-1\n",
        "    for i in range(low,high):\n",
        "        if lst[i]<pivot:\n",
        "            f+=1\n",
        "            swap(lst,i,f)\n",
        "\n",
        "    swap(lst,f+1,high)\n",
        "    return (f+1)\n",
        "\n",
        "\n",
        "def findK(k,arr):\n",
        "    if k >len(arr):\n",
        "        return None\n",
        "    low = 0\n",
        "    high = len(arr)- 1\n",
        "    while low <= high:\n",
        "        pivotIndex = partition(arr, low, high)\n",
        "        if pivotIndex == k - 1:\n",
        "            return arr[pivotIndex]\n",
        "        elif pivotIndex < k - 1:\n",
        "            low = pivotIndex + 1\n",
        "        else:\n",
        "            high = pivotIndex - 1\n",
        "    return None\n",
        "\n",
        "for i in range(1,len(data)):\n",
        "    f=findK(int(data[i].split('=')[1]),lst)\n",
        "    print(f,file=out_file)"
      ]
    },
    {
      "cell_type": "code",
      "source": [
        "# Task 2\n",
        "\n",
        "inp_file = open ('/content/drive/MyDrive/Colab Notebooks/CSE221/input2.txt', mode ='r')\n",
        "data = inp_file.readlines()  # data = list\n",
        "out_file= open ('/content/drive/MyDrive/Colab Notebooks/CSE221/output2.txt', mode ='w')\n",
        "\n",
        "# Adds a new element to the heap\n",
        "def add(heap, num):\n",
        "    heap.append(num)\n",
        "    swim_up(heap, len(heap)-1)\n",
        "\n",
        "# Deletes the smallest element from the heap\n",
        "def delete(heap):\n",
        "    if not heap:\n",
        "        return\n",
        "    heap[0], heap[-1] = heap[-1], heap[0]\n",
        "    heap.pop()\n",
        "    sink(heap, 0)\n",
        "\n",
        "# Builds a heap from a list of numbers\n",
        "def build(lst):\n",
        "    heap = []\n",
        "    for num in lst:\n",
        "        add(heap, num)\n",
        "    return heap\n",
        "\n",
        "# Performs the swim up operation to maintain the heap property\n",
        "def swim_up(heap, i):\n",
        "    while i > 0:\n",
        "        parent = (i - 1) // 2\n",
        "        if heap[i] < heap[parent]:\n",
        "            heap[i], heap[parent] = heap[parent], heap[i]\n",
        "            i = parent\n",
        "        else:\n",
        "            break\n",
        "\n",
        "# Performs the sink operation to maintain the heap property\n",
        "def sink(heap, i):\n",
        "    n = len(heap)\n",
        "    while i < n:\n",
        "        left_child = 2 * i + 1\n",
        "        right_child = 2 * i + 2\n",
        "        min_index = i\n",
        "        if left_child < n and heap[left_child] < heap[min_index]:\n",
        "            min_index = left_child\n",
        "        if right_child < n and heap[right_child] < heap[min_index]:\n",
        "            min_index = right_child\n",
        "        if min_index != i:\n",
        "            heap[i], heap[min_index] = heap[min_index], heap[i]\n",
        "            i = min_index\n",
        "        else:\n",
        "            break\n",
        "\n",
        "# Performs heap sort on a list of numbers\n",
        "def heap_sort(lst):\n",
        "    heap = build(lst)\n",
        "    sorted_lst = []\n",
        "    while heap:\n",
        "        sorted_lst.append(heap[0])\n",
        "        delete(heap)\n",
        "    return sorted_lst\n",
        "\n",
        "# Read the list of numbers from a file\n",
        "def read_numbers(filename):\n",
        "    with open(filename, 'r') as f:\n",
        "        numbers = f.read().split()\n",
        "    return [int(num) for num in numbers]\n",
        "\n",
        "\n",
        "# Read the list of numbers from a file\n",
        "filename = '/content/drive/MyDrive/Colab Notebooks/CSE221/input2.txt'\n",
        "numbers = read_numbers(filename)\n",
        "\n",
        "# Build the heap\n",
        "heap = build(numbers)\n",
        "\n",
        "# Main program loop\n",
        "while True:\n",
        "    # Print the current heap\n",
        "    print(\"Current heap: \", heap)  \n",
        "    # Get the user's command\n",
        "    command = input(\"Enter a command (A to add, B to delete, S to sort, Q to quit): \")\n",
        "\n",
        "    # Process the command\n",
        "    if command == 'A':\n",
        "        num = int(input(\"Enter the number to add: \"))\n",
        "        add(heap, num)\n",
        "    elif command == 'B':\n",
        "        delete(heap)\n",
        "    elif command == 'S':\n",
        "        sorted_lst = heap_sort(heap)\n",
        "        print(\"Sorted list: \", sorted_lst)\n",
        "    elif command == 'Q':\n",
        "        print(*heap, file=out_file)\n",
        "        break\n",
        "    else:\n",
        "        print(\"Invalid command. Please try again.\")\n",
        " \n"
      ],
      "metadata": {
        "id": "Nq1qOxbMH_5C"
      },
      "execution_count": null,
      "outputs": []
    },
    {
      "cell_type": "code",
      "source": [
        "# Task 3\n",
        "\n",
        "\n",
        "# Create an empty list to represent the queue\n",
        "queue = []\n",
        "\n",
        "# Function to insert a new patient into the queue\n",
        "def enqueue(name, priority):\n",
        "    queue.append((name, priority))\n",
        "\n",
        "# Function to remove the next patient from the queue and print their name\n",
        "def seeDoctor():\n",
        "    if not queue:\n",
        "        print(\"No patients in queue\")\n",
        "    else:\n",
        "        # Sort the queue by priority (1 is highest priority)\n",
        "        queue.sort(key=lambda x: x[1])\n",
        "        # Dequeue the patient with the highest priority and print their name\n",
        "        name, _ = queue.pop(0)\n",
        "        print(\"Next patient to see the doctor:\", name)\n",
        "\n",
        "# Function to print all patients in the queue\n",
        "def printQueue():\n",
        "    if not queue:\n",
        "        print(\"No patients in queue\")\n",
        "    else:\n",
        "        # Sort the queue by priority (1 is highest priority)\n",
        "        sorted_queue = sorted(queue, key=lambda x: x[1])\n",
        "        # Print the names of all patients in the queue\n",
        "        print(\"Patients in queue:\")\n",
        "        for name, priority in sorted_queue:\n",
        "            print(name)\n",
        "\n",
        "# Read input from file and perform operations\n",
        "with open(\"/content/drive/MyDrive/Colab Notebooks/CSE221/input3.txt\", \"r\") as f:\n",
        "    for line in f:\n",
        "        # Split the line into the patient name and priority\n",
        "        line = line.strip().split()\n",
        "        if line[0] == \"see\":\n",
        "            seeDoctor()\n",
        "            \n",
        "        elif len(line) == 2:\n",
        "            name, priority = line\n",
        "            enqueue(name, int(priority))\n",
        "\n",
        "        elif line[0] == \"print\":\n",
        "            printQueue()\n"
      ],
      "metadata": {
        "id": "map38tyfpDe9",
        "colab": {
          "base_uri": "https://localhost:8080/"
        },
        "outputId": "2468b785-65dd-45a5-95aa-ffd260f9b866"
      },
      "execution_count": 9,
      "outputs": [
        {
          "output_type": "stream",
          "name": "stdout",
          "text": [
            "Next patient to see the doctor: KLM\n",
            "Next patient to see the doctor: SDF\n",
            "Next patient to see the doctor: FDS\n",
            "Next patient to see the doctor: XCV\n",
            "Next patient to see the doctor: ABC\n"
          ]
        }
      ]
    },
    {
      "cell_type": "code",
      "source": [],
      "metadata": {
        "id": "mijFOw83dqb0"
      },
      "execution_count": null,
      "outputs": []
    }
  ]
}