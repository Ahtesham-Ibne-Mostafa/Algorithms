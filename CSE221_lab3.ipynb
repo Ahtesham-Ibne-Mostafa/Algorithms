{
  "nbformat": 4,
  "nbformat_minor": 0,
  "metadata": {
    "colab": {
      "provenance": [],
      "include_colab_link": true
    },
    "kernelspec": {
      "name": "python3",
      "display_name": "Python 3"
    },
    "language_info": {
      "name": "python"
    }
  },
  "cells": [
    {
      "cell_type": "markdown",
      "metadata": {
        "id": "view-in-github",
        "colab_type": "text"
      },
      "source": [
        "<a href=\"https://colab.research.google.com/github/Ahtesham-Ibne-Mostafa/Algorithms/blob/main/CSE221_lab3.ipynb\" target=\"_parent\"><img src=\"https://colab.research.google.com/assets/colab-badge.svg\" alt=\"Open In Colab\"/></a>"
      ]
    },
    {
      "cell_type": "code",
      "source": [
        "# Task 1 (i)\n",
        "\n",
        "def quickSort(lst,low,high):\n",
        "    if low<high:\n",
        "        pi= partition(lst,low,high)\n",
        "        quickSort(lst,low,pi-1)\n",
        "        quickSort(lst,pi+1,high)\n",
        "\n",
        "def swap(lst,b,c):\n",
        "  lst[c],lst[b]=lst[b],lst[c]\n",
        "\n",
        "def partition(lst,low, high) :\n",
        "\n",
        "    pivot = lst[high]\n",
        "    f= low-1\n",
        "    for i in range(low,high):\n",
        "        if lst[i]<pivot:\n",
        "            f+=1\n",
        "            swap(lst,i,f)\n",
        "    swap(lst,f+1,high)\n",
        "    return (f+1)\n"
      ],
      "metadata": {
        "id": "e4p7vYTqfLhd"
      },
      "execution_count": 2,
      "outputs": []
    },
    {
      "cell_type": "code",
      "source": [
        "from google.colab import drive\n",
        "drive.mount('/content/drive')"
      ],
      "metadata": {
        "id": "v99NSB8n5a9p",
        "outputId": "97fd452b-e482-49fa-e91e-31219bcec783",
        "colab": {
          "base_uri": "https://localhost:8080/"
        }
      },
      "execution_count": 1,
      "outputs": [
        {
          "output_type": "stream",
          "name": "stdout",
          "text": [
            "Mounted at /content/drive\n"
          ]
        }
      ]
    },
    {
      "cell_type": "code",
      "execution_count": 5,
      "metadata": {
        "id": "AV1CBTupRZye"
      },
      "outputs": [],
      "source": [
        "# Task 1 (ii)\n",
        "\n",
        "inp_file = open ('/content/drive/MyDrive/Colab Notebooks/CSE221/input1.txt', mode ='r')\n",
        "data = inp_file.readlines()  # data = list\n",
        "out_file= open ('/content/drive/MyDrive/Colab Notebooks/CSE221/output1.txt', mode ='w')\n",
        "\n",
        "\n",
        "lst = list(map(int, data[0].split(' ')[2:]))\n",
        "\n",
        "def findK(arr, k):\n",
        "    return findKHelper(arr, 0, len(arr)-1, k)\n",
        "\n",
        "def findKHelper(arr, low, high, k):\n",
        "    if low == high:\n",
        "        return arr[low]\n",
        "    pi = partition(arr, low, high)\n",
        "    if pi == k-1:\n",
        "        return arr[pi]\n",
        "    elif pi > k-1:\n",
        "        return findKHelper(arr, low, pi-1, k)\n",
        "    else:\n",
        "        return findKHelper(arr, pi+1, high, k)\n",
        "\n",
        "for i in range(1,len(data)):\n",
        "    f=findK(lst,int(data[i].split('=')[1]))\n",
        "    print(f,file=out_file)\n",
        "\n",
        "inp_file.close()\n",
        "out_file.close()\n"
      ]
    },
    {
      "cell_type": "code",
      "source": [
        "# Task 2\n",
        "  \n",
        "out_file= open ('/content/drive/MyDrive/Colab Notebooks/CSE221/output2.txt', mode ='w')\n",
        "\n",
        "\n",
        "def heapify(arr, n, i):\n",
        "    smallest = i\n",
        "    l = 2 * i + 1\n",
        "    r = 2 * i + 2\n",
        "    if l < n and arr[l] < arr[smallest]:\n",
        "        smallest = l\n",
        "    if r < n and arr[r] < arr[smallest]:\n",
        "        smallest = r\n",
        "    if smallest != i:\n",
        "        arr[i], arr[smallest] = arr[smallest], arr[i]\n",
        "        heapify(arr, n, smallest)\n",
        "\n",
        "\n",
        "def add(arr, key):\n",
        "    arr.append(key)\n",
        "    n = len(arr)\n",
        "    i = n - 1\n",
        "    while i > 0 and arr[(i - 1) // 2] > arr[i]:\n",
        "        arr[i], arr[(i - 1) // 2] = arr[(i - 1) // 2], arr[i]\n",
        "        i = (i - 1) // 2\n",
        "\n",
        "\n",
        "def delete(arr, key):\n",
        "    n = len(arr)\n",
        "    i = 0\n",
        "    while i < n:\n",
        "        if arr[i] == key:\n",
        "            break\n",
        "        i += 1\n",
        "    if i == n:\n",
        "        return\n",
        "    arr[i], arr[n - 1] = arr[n - 1], arr[i]\n",
        "    arr.pop()\n",
        "    n = len(arr)\n",
        "    heapify(arr, n, i)\n",
        "\n",
        "\n",
        "def build(arr):\n",
        "    n = len(arr)\n",
        "    for i in range(n // 2 - 1, -1, -1):\n",
        "        heapify(arr, n, i)\n",
        "\n",
        "\n",
        "def swim_up(arr, i):\n",
        "    while i > 0 and arr[(i - 1) // 2] > arr[i]:\n",
        "        arr[i], arr[(i - 1) // 2] = arr[(i - 1) // 2], arr[i]\n",
        "        i = (i - 1) // 2\n",
        "\n",
        "\n",
        "def sink(arr, n, i):\n",
        "    smallest = i\n",
        "    l = 2 * i + 1\n",
        "    r = 2 * i + 2\n",
        "    if l < n and arr[l] < arr[smallest]:\n",
        "        smallest = l\n",
        "    if r < n and arr[r] < arr[smallest]:\n",
        "        smallest = r\n",
        "    if smallest != i:\n",
        "        arr[i], arr[smallest] = arr[smallest], arr[i]\n",
        "        sink(arr, n, smallest)\n",
        "\n",
        "\n",
        "def heapSort(arr):\n",
        "    n = len(arr)\n",
        "    for i in range(n // 2 - 1, -1, -1):\n",
        "        sink(arr, n, i)\n",
        "    for i in range(n - 1, 0, -1):\n",
        "        arr[0], arr[i] = arr[i], arr[0]\n",
        "        sink(arr, i, 0)\n",
        "\n",
        "\n",
        "# read the input from file\n",
        "with open('/content/drive/MyDrive/Colab Notebooks/CSE221/input2.txt', 'r') as file:\n",
        "    arr = list(map(int, file.read().split()))\n",
        "\n",
        "# build the heap\n",
        "build(arr)\n",
        "\n",
        "while True:\n",
        "    # get user command\n",
        "    command = input(\"Enter a command (A to add, B to delete, S to sort, Q to quit): \")\n",
        "\n",
        "    if command == 'A':\n",
        "        key = int(input(\"Enter a number to add: \"))\n",
        "        add(arr, key)\n",
        "\n",
        "    elif command == 'B':\n",
        "        key = int(input(\"Enter a number to delete: \"))\n",
        "        delete(arr, key)\n",
        "\n",
        "    elif command == 'S':\n",
        "        heapSort(arr)\n",
        "        print(\"Sorted array\", arr[(len(arr)-1)::-1])\n",
        "    elif command == 'Q':\n",
        "        break\n",
        "\n",
        "file.close()\n",
        "out_file.close()"
      ],
      "metadata": {
        "id": "Nq1qOxbMH_5C"
      },
      "execution_count": null,
      "outputs": []
    },
    {
      "cell_type": "code",
      "source": [
        "# Task 3 ( Bubble Sort )\n",
        "\n",
        "out_file= open ('/content/drive/MyDrive/Colab Notebooks/CSE221/output3.txt', mode ='w')\n",
        "\n",
        "def enque(name, priority,queue):\n",
        "    queue.append((name, priority))\n",
        "    # sort the queue by priority using bubble sort\n",
        "    for i in range(len(queue)):\n",
        "        for j in range(i+1, len(queue)):\n",
        "            if queue[i][1] > queue[j][1]:\n",
        "                queue[i], queue[j] = queue[j], queue[i]\n",
        "\n",
        "def seeDoctor(queue):\n",
        "    if len(queue) > 0:\n",
        "        name, priority = queue.pop(0)\n",
        "        return name\n",
        "    if not queue:\n",
        "        print(\"No patients in queue\")\n",
        "\n",
        "def printQueue(queue):\n",
        "    for patient in queue:\n",
        "        print(patient[0])\n",
        "queue = []\n",
        "# process input\n",
        "inp_file = open ('/content/drive/MyDrive/Colab Notebooks/CSE221/input3.txt', mode ='r')\n",
        "file = inp_file.readlines()\n",
        "def process_Bubble(file,queue):\n",
        "    for line in file:\n",
        "        tokens = line.split()\n",
        "        if tokens[0] == 'see':\n",
        "            name = seeDoctor(queue)\n",
        "            print(name)\n",
        "        else:\n",
        "            name = tokens[0]\n",
        "            priority = int(tokens[1])\n",
        "            enque(name, priority,queue)\n",
        "process_Bubble(file,queue)\n",
        "\n",
        "inp_file.close()\n",
        "out_file.close()"
      ],
      "metadata": {
        "id": "mijFOw83dqb0",
        "colab": {
          "base_uri": "https://localhost:8080/"
        },
        "outputId": "2058a6f6-46b0-41d5-f9c3-d5e32b2f64b5"
      },
      "execution_count": 22,
      "outputs": [
        {
          "output_type": "stream",
          "name": "stdout",
          "text": [
            "KLM\n",
            "SDF\n",
            "FDS\n",
            "XCV\n",
            "ABC\n"
          ]
        }
      ]
    },
    {
      "cell_type": "code",
      "source": [
        "# Task 3 ( Heap Sort )\n",
        "\n",
        "out_file= open ('/content/drive/MyDrive/Colab Notebooks/CSE221/output3.txt', mode ='w')\n",
        "\n",
        "def heapify_up(lst, i):\n",
        "    while i > 0:\n",
        "        parent = (i - 1) // 2\n",
        "        if lst[parent][1] > lst[i][1]:\n",
        "            lst[parent], lst[i] = lst[i], lst[parent]\n",
        "            i = parent\n",
        "        else:\n",
        "            break\n",
        "\n",
        "def heapify_down(lst, i):\n",
        "    n = len(lst)\n",
        "    while True:\n",
        "        left = 2 * i + 1\n",
        "        right = 2 * i + 2\n",
        "        smallest = i\n",
        "        if left < n and lst[left][1] < lst[smallest][1]:\n",
        "            smallest = left\n",
        "        if right < n and lst[right][1] < lst[smallest][1]:\n",
        "            smallest = right\n",
        "        if smallest != i:\n",
        "            lst[smallest], lst[i] = lst[i], lst[smallest]\n",
        "            i = smallest\n",
        "        else:\n",
        "            break\n",
        "\n",
        "def enque(name, priority, queue):\n",
        "    queue.append((name, priority))\n",
        "    heapify_up(queue, len(queue) - 1)\n",
        "\n",
        "def seeDoctor(queue):\n",
        "    if not queue:\n",
        "        print(\"No patients in queue\")\n",
        "    else:\n",
        "        name, priority = queue[0]\n",
        "        queue[0] = queue[-1]\n",
        "        queue.pop(0)\n",
        "        heapify_down(queue, 0)\n",
        "        print(queue)\n",
        "        print(name)\n",
        "\n",
        "def printQueue(queue):\n",
        "    for name, priority in queue:\n",
        "        print(f\"{name} ({priority})\")\n",
        "\n",
        "inp_file = open ('/content/drive/MyDrive/Colab Notebooks/CSE221/input3.txt', mode ='r')\n",
        "f = inp_file.readlines()\n",
        "def process_Heap(f):\n",
        "    print(f)\n",
        "    queue = []\n",
        "    for line in f:\n",
        "        if line.startswith('see doctor'):\n",
        "            seeDoctor(queue)\n",
        "        else:\n",
        "            name, priority = line.strip().split()\n",
        "            enque(name, int(priority), queue)\n",
        "\n",
        "process_Heap(f)\n",
        "\n",
        "inp_file.close()\n",
        "out_file.close()"
      ],
      "metadata": {
        "id": "OsokHTUFge6Y",
        "colab": {
          "base_uri": "https://localhost:8080/"
        },
        "outputId": "c66dfca5-4209-4125-d153-a16688efbfba"
      },
      "execution_count": 41,
      "outputs": [
        {
          "output_type": "stream",
          "name": "stdout",
          "text": [
            "['ABC 3\\n', 'EWQ 3\\n', 'SDF 2\\n', 'KLM 1\\n', 'see doctor\\n', 'see doctor\\n', 'FDS 1\\n', 'OPN 3\\n', 'TYU 3\\n', 'see doctor\\n', 'XCV 2\\n', 'see doctor\\n', 'see doctor\\n']\n",
            "[('SDF', 2), ('ABC', 3), ('EWQ', 3)]\n",
            "KLM\n",
            "[('ABC', 3), ('EWQ', 3)]\n",
            "SDF\n",
            "[('EWQ', 3), ('ABC', 3), ('OPN', 3), ('TYU', 3)]\n",
            "FDS\n",
            "[('EWQ', 3), ('OPN', 3), ('TYU', 3), ('ABC', 3)]\n",
            "XCV\n",
            "[('OPN', 3), ('TYU', 3), ('ABC', 3)]\n",
            "EWQ\n"
          ]
        }
      ]
    },
    {
      "cell_type": "code",
      "source": [
        "def enque(name, seriousness,heap):\n",
        "    heap.append((seriousness, name))\n",
        "    i = len(heap) - 1\n",
        "    while i > 0 and heap[i][0] < heap[(i-1)//2][0]:\n",
        "        heap[i], heap[(i-1)//2] = heap[(i-1)//2], heap[i]\n",
        "        i = (i-1) // 2\n",
        "\n",
        "def seeDoctor(heap):\n",
        "    if heap:\n",
        "        patient = heap[0]\n",
        "        print(patient)\n",
        "        # heap[0] = heap[-1]\n",
        "        heap.pop(0)\n",
        "        i = 0\n",
        "        while True:\n",
        "            left = 2*i + 1\n",
        "            right = 2*i + 2\n",
        "            smallest = i\n",
        "            if left < len(heap) and heap[left][0] < heap[smallest][0]:\n",
        "                smallest = left\n",
        "            if right < len(heap) and heap[right][0] < heap[smallest][0]:\n",
        "                smallest = right\n",
        "            if smallest == i:\n",
        "                break\n",
        "            heap[i], heap[smallest] = heap[smallest], heap[i]\n",
        "            i = smallest\n",
        "    else:\n",
        "        print(\"No patients in the queue.\")\n",
        "\n",
        "def printQueue(heap):\n",
        "    if heap:\n",
        "        for patient in heap:\n",
        "            print(patient[1])\n",
        "    else:\n",
        "        print(\"No patients in the queue.\")\n",
        "\n",
        "\n",
        "inp_file = open ('/content/drive/MyDrive/Colab Notebooks/CSE221/input3.txt', mode ='r')\n",
        "f = inp_file.readlines()\n",
        "def process_Heap(f):\n",
        "    heap = []\n",
        "    for line in f:\n",
        "        if line.startswith('see doctor'):\n",
        "            seeDoctor(heap)\n",
        "        else:\n",
        "            name, priority = line.strip().split()\n",
        "            enque(name, int(priority), heap)\n",
        "        print(heap)\n",
        "process_Heap(f)"
      ],
      "metadata": {
        "id": "0DynIXYq2Umd",
        "outputId": "88ac9f33-c99a-4f30-899b-eb7279a94e55",
        "colab": {
          "base_uri": "https://localhost:8080/"
        }
      },
      "execution_count": 40,
      "outputs": [
        {
          "output_type": "stream",
          "name": "stdout",
          "text": [
            "[(3, 'ABC')]\n",
            "[(3, 'ABC'), (3, 'EWQ')]\n",
            "[(2, 'SDF'), (3, 'EWQ'), (3, 'ABC')]\n",
            "[(1, 'KLM'), (2, 'SDF'), (3, 'ABC'), (3, 'EWQ')]\n",
            "(1, 'KLM')\n",
            "[(2, 'SDF'), (3, 'ABC'), (3, 'EWQ')]\n",
            "(2, 'SDF')\n",
            "[(3, 'ABC'), (3, 'EWQ')]\n",
            "[(1, 'FDS'), (3, 'EWQ'), (3, 'ABC')]\n",
            "[(1, 'FDS'), (3, 'EWQ'), (3, 'ABC'), (3, 'OPN')]\n",
            "[(1, 'FDS'), (3, 'EWQ'), (3, 'ABC'), (3, 'OPN'), (3, 'TYU')]\n",
            "(1, 'FDS')\n",
            "[(3, 'EWQ'), (3, 'ABC'), (3, 'OPN'), (3, 'TYU')]\n",
            "[(2, 'XCV'), (3, 'EWQ'), (3, 'OPN'), (3, 'TYU'), (3, 'ABC')]\n",
            "(2, 'XCV')\n",
            "[(3, 'EWQ'), (3, 'OPN'), (3, 'TYU'), (3, 'ABC')]\n",
            "(3, 'EWQ')\n",
            "[(3, 'OPN'), (3, 'TYU'), (3, 'ABC')]\n"
          ]
        }
      ]
    },
    {
      "cell_type": "code",
      "source": [
        "import time\n",
        "import math\n",
        "import matplotlib.pyplot as plt\n",
        "import numpy as np\n",
        "#change the value of n for your own experimentation\n",
        "n = 30\n",
        "x = [i for i in range(n)]\n",
        "y = [0 for i in range(n)]\n",
        "z = [0 for i in range(n)]\n",
        "for i in range(n-1):\n",
        "    start = time.time()\n",
        "    process_Heap(file)\n",
        "    y[i+1]= time.time()-start\n",
        "    start = time.time()\n",
        "    process_Bubble(file,queue)\n",
        "    z[i+1]= time.time()-start\n",
        "x_interval = math.ceil(n/10)\n",
        "plt.plot(x, y, 'r')\n",
        "plt.plot(x, z, 'b')\n",
        "plt.xticks(np.arange(min(x), max(x)+1, x_interval))\n",
        "plt.xlabel('n-th position')\n",
        "plt.ylabel('time')\n",
        "plt.title('Comparing Time Complexity!')\n",
        "plt.show()\n",
        "\n",
        "inp_file.close()\n",
        "out_file.close()"
      ],
      "metadata": {
        "colab": {
          "base_uri": "https://localhost:8080/",
          "height": 295
        },
        "id": "c9QqQYWQofax",
        "outputId": "3238a486-184b-4a14-a82c-f9316bd59eb9"
      },
      "execution_count": null,
      "outputs": [
        {
          "output_type": "display_data",
          "data": {
            "text/plain": [
              "<Figure size 432x288 with 1 Axes>"
            ],
            "image/png": "[encoded data removed]"
          },
          "metadata": {
            "needs_background": "light"
          }
        }
      ]
    },
    {
      "cell_type": "code",
      "source": [],
      "metadata": {
        "id": "yevEdRfr6yhS"
      },
      "execution_count": null,
      "outputs": []
    }
  ]
}