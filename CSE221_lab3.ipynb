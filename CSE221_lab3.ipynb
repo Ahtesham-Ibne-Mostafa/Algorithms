{
  "nbformat": 4,
  "nbformat_minor": 0,
  "metadata": {
    "colab": {
      "provenance": [],
      "mount_file_id": "https://github.com/Ahtesham-Ibne-Mostafa/Algorithms/blob/main/CSE221_lab3.ipynb",
      "authorship_tag": "ABX9TyNUx1IPwI6HtrJT1YU/yhzl",
      "include_colab_link": true
    },
    "kernelspec": {
      "name": "python3",
      "display_name": "Python 3"
    },
    "language_info": {
      "name": "python"
    }
  },
  "cells": [
    {
      "cell_type": "markdown",
      "metadata": {
        "id": "view-in-github",
        "colab_type": "text"
      },
      "source": [
        "<a href=\"https://colab.research.google.com/github/Ahtesham-Ibne-Mostafa/Algorithms/blob/main/CSE221_lab3.ipynb\" target=\"_parent\"><img src=\"https://colab.research.google.com/assets/colab-badge.svg\" alt=\"Open In Colab\"/></a>"
      ]
    },
    {
      "cell_type": "code",
      "source": [
        "# Task 1 (i)\n",
        "\n",
        "def quickSort(lst,low,high):\n",
        "    if low<high:\n",
        "        pi= partition(lst,low,high)\n",
        "        quickSort(lst,low,pi-1)\n",
        "        quickSort(lst,pi+1,high)\n",
        "\n",
        "def swap(lst,b,c):\n",
        "  lst[c],lst[b]=lst[b],lst[c]\n",
        "\n",
        "def partition(lst,low, high) :\n",
        "\n",
        "    pivot = lst[high]\n",
        "    f= low-1\n",
        "    for i in range(low,high):\n",
        "        if lst[i]<pivot:\n",
        "            f+=1\n",
        "            swap(lst,i,f)\n",
        "    swap(lst,f+1,high)\n",
        "    return (f+1)\n"
      ],
      "metadata": {
        "id": "e4p7vYTqfLhd"
      },
      "execution_count": null,
      "outputs": []
    },
    {
      "cell_type": "code",
      "execution_count": 13,
      "metadata": {
        "id": "AV1CBTupRZye",
        "colab": {
          "base_uri": "https://localhost:8080/"
        },
        "outputId": "dd61161c-8ac2-4ff4-be23-634658515982"
      },
      "outputs": [
        {
          "output_type": "stream",
          "name": "stdout",
          "text": [
            "[1, 4, 3, 1, 5, 6, 7, 9]\n",
            "[1, 4, 3, 1, 5, 6, 7, 9]\n",
            "[1, 1, 3, 4, 5, 6, 7, 9]\n"
          ]
        }
      ],
      "source": [
        "# Task 1 (ii)\n",
        "\n",
        "inp_file = open ('/content/drive/MyDrive/Colab Notebooks/CSE221/input1.txt', mode ='r')\n",
        "data = inp_file.readlines()  # data = list\n",
        "out_file= open ('/content/drive/MyDrive/Colab Notebooks/CSE221/output1.txt', mode ='w')\n",
        "\n",
        "\n",
        "lst = list(map(int, data[0].split(' ')[2:]))\n",
        "\n",
        "def swap(lst,b,c):\n",
        "  lst[c],lst[b]=lst[b],lst[c]\n",
        "\n",
        "def partition(lst,low, high) :\n",
        "\n",
        "    pivot = lst[high]\n",
        "    f= low-1\n",
        "    for i in range(low,high):\n",
        "        if lst[i]<pivot:\n",
        "            f+=1\n",
        "            swap(lst,i,f)\n",
        "\n",
        "    swap(lst,f+1,high)\n",
        "    return (f+1)\n",
        "\n",
        "\n",
        "def findK(k,arr):\n",
        "    if k >len(arr):\n",
        "        return None\n",
        "    low = 0\n",
        "    high = len(arr)- 1\n",
        "    while low <= high:\n",
        "        pivotIndex = partition(arr, low, high)\n",
        "        if pivotIndex == k - 1:\n",
        "            return arr[pivotIndex]\n",
        "        elif pivotIndex < k - 1:\n",
        "            low = pivotIndex + 1\n",
        "        else:\n",
        "            high = pivotIndex - 1\n",
        "    return None\n",
        "\n",
        "for i in range(1,len(data)):\n",
        "    f=findK(int(data[i].split('=')[1]),lst)\n",
        "    print(lst)\n",
        "    print(f,file=out_file)"
      ]
    },
    {
      "cell_type": "code",
      "source": [
        "# Task 2\n",
        "\n",
        "inp_file = open ('/content/drive/MyDrive/Colab Notebooks/CSE221/input2.txt', mode ='r')\n",
        "data = inp_file.readlines()  \n",
        "out_file= open ('/content/drive/MyDrive/Colab Notebooks/CSE221/output2.txt', mode ='w')\n",
        "\n",
        "\n",
        "def add(heap, num):\n",
        "    heap.append(num)\n",
        "    swim_up(heap, len(heap)-1)\n",
        "\n",
        "\n",
        "def delete(heap):\n",
        "    if not heap:\n",
        "        return\n",
        "    heap[0], heap[-1] = heap[-1], heap[0]\n",
        "    heap.pop()\n",
        "    sink(heap, 0)\n",
        "\n",
        "\n",
        "def build(lst):\n",
        "    heap = []\n",
        "    for num in lst:\n",
        "        add(heap, num)\n",
        "    return heap\n",
        "\n",
        "\n",
        "def swim_up(heap, i):\n",
        "    while i > 0:\n",
        "        parent = (i - 1) // 2\n",
        "        if heap[i] < heap[parent]:\n",
        "            heap[i], heap[parent] = heap[parent], heap[i]\n",
        "            i = parent\n",
        "        else:\n",
        "            break\n",
        "\n",
        "\n",
        "def sink(heap, i):\n",
        "    n = len(heap)\n",
        "    while i < n:\n",
        "        left_child = 2 * i + 1\n",
        "        right_child = 2 * i + 2\n",
        "        min_index = i\n",
        "        if left_child < n and heap[left_child] < heap[min_index]:\n",
        "            min_index = left_child\n",
        "        if right_child < n and heap[right_child] < heap[min_index]:\n",
        "            min_index = right_child\n",
        "        if min_index != i:\n",
        "            heap[i], heap[min_index] = heap[min_index], heap[i]\n",
        "            i = min_index\n",
        "        else:\n",
        "            break\n",
        "\n",
        "\n",
        "def heap_sort(lst):\n",
        "    heap = build(lst)\n",
        "    sorted_lst = []\n",
        "    while heap:\n",
        "        sorted_lst.append(heap[0])\n",
        "        delete(heap)\n",
        "    return sorted_lst\n",
        "\n",
        "\n",
        "def read_numbers(filename):\n",
        "    with open(filename, 'r') as f:\n",
        "        numbers = f.read().split()\n",
        "    return [int(num) for num in numbers]\n",
        "\n",
        "\n",
        "\n",
        "filename = '/content/drive/MyDrive/Colab Notebooks/CSE221/input2.txt'\n",
        "numbers = read_numbers(filename)\n",
        "\n",
        "\n",
        "heap = build(numbers)\n",
        "\n",
        "\n",
        "while True:\n",
        "\n",
        "    print(\"Current heap: \", heap)  \n",
        "\n",
        "    command = input(\"Enter a command (A to add, B to delete, S to sort, Q to quit): \")\n",
        "\n",
        "\n",
        "    if command == 'A':\n",
        "        num = int(input(\"Enter the number to add: \"))\n",
        "        add(heap, num)\n",
        "    elif command == 'B':\n",
        "        delete(heap)\n",
        "    elif command == 'S':\n",
        "        sorted_lst = heap_sort(heap)\n",
        "        print(\"Sorted list: \", sorted_lst)\n",
        "    elif command == 'Q':\n",
        "        print(*heap, file=out_file)\n",
        "        break\n",
        "    else:\n",
        "        print(\"Invalid command. Please try again.\")\n",
        " \n"
      ],
      "metadata": {
        "id": "Nq1qOxbMH_5C"
      },
      "execution_count": null,
      "outputs": []
    },
    {
      "cell_type": "code",
      "source": [
        "# Task 3 ( Bubble Sort )\n",
        "\n",
        "\n",
        "queue = []\n",
        "\n",
        "def enque(name, priority):\n",
        "    queue.append((name, priority))\n",
        "    # sort the queue by priority using bubble sort\n",
        "    for i in range(len(queue)):\n",
        "        for j in range(i+1, len(queue)):\n",
        "            if queue[i][1] > queue[j][1]:\n",
        "                queue[i], queue[j] = queue[j], queue[i]\n",
        "\n",
        "def seeDoctor():\n",
        "    if len(queue) > 0:\n",
        "        name, priority = queue.pop(0)\n",
        "        return name\n",
        "\n",
        "def printQueue():\n",
        "    for patient in queue:\n",
        "        print(patient[0])\n",
        "\n",
        "# process input\n",
        "with open('/content/drive/MyDrive/Colab Notebooks/CSE221/input3.txt', 'r') as file:\n",
        "    for line in file:\n",
        "        tokens = line.split()\n",
        "        if tokens[0] == 'see':\n",
        "            name = seeDoctor()\n",
        "            if name:\n",
        "                print(name)\n",
        "        else:\n",
        "            name = tokens[0]\n",
        "            priority = int(tokens[1])\n",
        "            enque(name, priority)"
      ],
      "metadata": {
        "colab": {
          "base_uri": "https://localhost:8080/"
        },
        "id": "mijFOw83dqb0",
        "outputId": "d324de8a-05ab-4a36-9d91-c4e36ab8297d"
      },
      "execution_count": 15,
      "outputs": [
        {
          "output_type": "stream",
          "name": "stdout",
          "text": [
            "KLM\n",
            "SDF\n",
            "FDS\n",
            "XCV\n",
            "ABC\n"
          ]
        }
      ]
    },
    {
      "cell_type": "code",
      "source": [],
      "metadata": {
        "id": "OsokHTUFge6Y"
      },
      "execution_count": null,
      "outputs": []
    }
  ]
}