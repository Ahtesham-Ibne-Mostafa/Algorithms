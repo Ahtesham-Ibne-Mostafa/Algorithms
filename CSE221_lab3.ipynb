{
  "nbformat": 4,
  "nbformat_minor": 0,
  "metadata": {
    "colab": {
      "provenance": [],
      "mount_file_id": "1DPZ6K4p1hMutkhx8bYdk27lAEy5revKv",
      "authorship_tag": "ABX9TyP+AjnM/YtZMa9GddqS7/ey",
      "include_colab_link": true
    },
    "kernelspec": {
      "name": "python3",
      "display_name": "Python 3"
    },
    "language_info": {
      "name": "python"
    }
  },
  "cells": [
    {
      "cell_type": "markdown",
      "metadata": {
        "id": "view-in-github",
        "colab_type": "text"
      },
      "source": [
        "<a href=\"https://colab.research.google.com/github/Ahtesham-Ibne-Mostafa/Algorithms/blob/main/CSE221_lab3.ipynb\" target=\"_parent\"><img src=\"https://colab.research.google.com/assets/colab-badge.svg\" alt=\"Open In Colab\"/></a>"
      ]
    },
    {
      "cell_type": "code",
      "source": [
        "# Task 1 (i)\n",
        "\n",
        "def quickSort(lst,low,high):\n",
        "    if low<high:\n",
        "        pi= partition(lst,low,high)\n",
        "        quickSort(lst,low,pi-1)\n",
        "        quickSort(lst,pi+1,high)\n",
        "\n",
        "def swap(lst,b,c):\n",
        "  lst[c],lst[b]=lst[b],lst[c]\n",
        "\n",
        "def partition(lst,low, high) :\n",
        "\n",
        "    pivot = lst[high]\n",
        "    f= low-1\n",
        "    for i in range(low,high):\n",
        "        if lst[i]<pivot:\n",
        "            f+=1\n",
        "            swap(lst,i,f)\n",
        "    swap(lst,f+1,high)\n",
        "    return (f+1)\n"
      ],
      "metadata": {
        "id": "e4p7vYTqfLhd"
      },
      "execution_count": null,
      "outputs": []
    },
    {
      "cell_type": "code",
      "execution_count": 6,
      "metadata": {
        "id": "AV1CBTupRZye",
        "colab": {
          "base_uri": "https://localhost:8080/"
        },
        "outputId": "9cf1ecf9-fef0-47ee-c9da-75e2fb71014e"
      },
      "outputs": [
        {
          "output_type": "stream",
          "name": "stdout",
          "text": [
            "9\n",
            "10\n",
            "3\n"
          ]
        }
      ],
      "source": [
        "# Task 1 (ii)\n",
        "\n",
        "inp_file = open ('/content/drive/MyDrive/Colab Notebooks/CSE221/input1.txt', mode ='r')\n",
        "data = inp_file.readlines()  # data = list\n",
        "out_file= open ('/content/drive/MyDrive/Colab Notebooks/CSE221/output1.txt', mode ='w')\n",
        "\n",
        "\n",
        "lst = list(map(int, data[0].split(' ')[2:]))\n",
        "\n",
        "def swap(lst,b,c):\n",
        "  lst[c],lst[b]=lst[b],lst[c]\n",
        "\n",
        "def partition(lst,low, high) :\n",
        "\n",
        "    pivot = lst[high]\n",
        "    f= low-1\n",
        "    for i in range(low,high):\n",
        "        if lst[i]<pivot:\n",
        "            f+=1\n",
        "            swap(lst,i,f)\n",
        "\n",
        "    swap(lst,f+1,high)\n",
        "    return (f+1)\n",
        "\n",
        "\n",
        "def findK(k,arr):\n",
        "    if k >len(arr):\n",
        "        return None\n",
        "    low = 0\n",
        "    high = len(arr)- 1\n",
        "    while low <= high:\n",
        "        pivotIndex = partition(arr, low, high)\n",
        "        if pivotIndex == k - 1:\n",
        "            return arr[pivotIndex]\n",
        "        elif pivotIndex < k - 1:\n",
        "            low = pivotIndex + 1\n",
        "        else:\n",
        "            high = pivotIndex - 1\n",
        "    return None\n",
        "\n",
        "for i in range(1,len(data)):\n",
        "    f=findK(int(data[i].split('=')[1]),lst)\n",
        "    print(f,file=out_file)"
      ]
    },
    {
      "cell_type": "code",
      "source": [
        "findK(arr, k):\n",
        "    if k >len(arr):\n",
        "        return None\n",
        "    low = 0\n",
        "    high = len(arr)- 1\n",
        "    while low <= high:\n",
        "        pivotIndex = partition(arr, low, high)\n",
        "        if pivotIndex == k - 1:\n",
        "            return arr[pivotIndex]\n",
        "        elif pivotIndex < k - 1:\n",
        "            low = pivotIndex + 1\n",
        "        else:\n",
        "            high = pivotIndex - 1\n",
        "    return None\n",
        "                                    "
      ],
      "metadata": {
        "id": "Nq1qOxbMH_5C",
        "colab": {
          "base_uri": "https://localhost:8080/"
        },
        "outputId": "5413c501-089b-4459-e8cd-3e2cdbedc49d"
      },
      "execution_count": 35,
      "outputs": [
        {
          "output_type": "stream",
          "name": "stdout",
          "text": [
            "5\n",
            "5\n",
            "9\n"
          ]
        }
      ]
    },
    {
      "cell_type": "code",
      "source": [],
      "metadata": {
        "id": "map38tyfpDe9"
      },
      "execution_count": null,
      "outputs": []
    }
  ]
}