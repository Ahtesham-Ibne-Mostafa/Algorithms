{
  "nbformat": 4,
  "nbformat_minor": 0,
  "metadata": {
    "colab": {
      "provenance": [],
      "mount_file_id": "1TdC1N2dNrDEhWLSOHtzbzwLzn06NsL5p",
      "authorship_tag": "ABX9TyPa6mU1qZuUqmeo6yCIZO1t",
      "include_colab_link": true
    },
    "kernelspec": {
      "name": "python3",
      "display_name": "Python 3"
    },
    "language_info": {
      "name": "python"
    }
  },
  "cells": [
    {
      "cell_type": "markdown",
      "metadata": {
        "id": "view-in-github",
        "colab_type": "text"
      },
      "source": [
        "<a href=\"https://colab.research.google.com/github/Ahtesham-Ibne-Mostafa/Algorithms/blob/main/Sorting.ipynb\" target=\"_parent\"><img src=\"https://colab.research.google.com/assets/colab-badge.svg\" alt=\"Open In Colab\"/></a>"
      ]
    },
    {
      "cell_type": "code",
      "execution_count": null,
      "metadata": {
        "colab": {
          "base_uri": "https://localhost:8080/"
        },
        "id": "FAtlLyUqBy1-",
        "outputId": "f87c7872-6bb1-4c56-b404-ead8bf077e5d"
      },
      "outputs": [
        {
          "output_type": "stream",
          "name": "stdout",
          "text": [
            "[1, 1, 2, 3, 4, 4, 5, 6, 7, 8, 9, 9]\n"
          ]
        }
      ],
      "source": [
        "# Insertion Sort\n",
        "\n",
        "a=[1,2,5,6,4,3,8,9,1,7,9,4]\n",
        "for i in range(1,len(a)):\n",
        "    if a[i]<a[i-1]:\n",
        "        value=a[i]\n",
        "        for j in range(i-1,-1,-1):\n",
        "            if value > a[j]:\n",
        "                a[j+1]=value\n",
        "                break\n",
        "            else:\n",
        "                a[j],a[j+1]=a[j+1],a[j]\n",
        "print(a)"
      ]
    },
    {
      "cell_type": "code",
      "source": [
        "# Selection Sort\n",
        "\n",
        "a=[1,2,5,6,4,3,8,9,1,7,9,4]\n",
        "for i in range(len (a)) :\n",
        "    f=a[i]\n",
        "    f1=i\n",
        "    for j in range(i,len(a)):\n",
        "        if a[j]>f:\n",
        "            f=a[j]\n",
        "            f1=j\n",
        "    a[f1],a[i]=a[i],a[f1]\n",
        "print(a)"
      ],
      "metadata": {
        "id": "9H_LstEDE1Zo",
        "colab": {
          "base_uri": "https://localhost:8080/"
        },
        "outputId": "98385965-41ad-4857-80af-4a882a693fe4"
      },
      "execution_count": null,
      "outputs": [
        {
          "output_type": "stream",
          "name": "stdout",
          "text": [
            "[9, 9, 8, 7, 6, 5, 4, 4, 3, 2, 1, 1]\n"
          ]
        }
      ]
    },
    {
      "cell_type": "code",
      "source": [
        "# merge sort\n",
        "\n",
        "%%time\n",
        "\n",
        "a=[4,1,5,3,2,7,1,6,5,9]\n",
        "#a=[1,2,3,4]\n",
        "def merge(lst1,lst2):\n",
        "  i=j=0\n",
        "  final=[]\n",
        "  while i<len(lst1) and j<len(lst2):\n",
        "    if lst1[i]<lst2[j]:\n",
        "      final.append(lst1[i])\n",
        "      i+=1\n",
        "  \n",
        "    else:\n",
        "      final.append(lst2[j])\n",
        "      j+=1\n",
        "  final+=lst1[i:]\n",
        "  final+=lst2[j:]\n",
        "\n",
        "  return final\n",
        "\n",
        "\n",
        "def merge_sort(a):\n",
        "  if len(a)==1:\n",
        "    return a\n",
        "  mid = len(a)//2\n",
        "\n",
        "  left =a[:mid]\n",
        "  right=a[mid:]\n",
        "\n",
        "  a=merge_sort(left)\n",
        "  b=merge_sort(right)\n",
        "\n",
        "  return merge(a,b)\n",
        "\n",
        "f=merge_sort(a)\n",
        "print(f)"
      ],
      "metadata": {
        "colab": {
          "base_uri": "https://localhost:8080/"
        },
        "id": "VL0BhWdMvbDm",
        "outputId": "6ee6fcda-81ee-46fc-d6d9-b255a5c4e521"
      },
      "execution_count": 8,
      "outputs": [
        {
          "output_type": "stream",
          "name": "stdout",
          "text": [
            "[1, 1, 2, 3, 4, 5, 5, 6, 7, 9]\n",
            "CPU times: user 1.29 ms, sys: 0 ns, total: 1.29 ms\n",
            "Wall time: 1.15 ms\n"
          ]
        }
      ]
    },
    {
      "cell_type": "code",
      "source": [
        "# Quick Sort\n",
        "\n",
        "%%time\n",
        "\n",
        "a=[10,5,7,2,3,16,21,10]\n",
        "\n",
        "def swap(a,b,c):\n",
        "  c[a],c[b]=c[b],c[a]\n",
        "def partition(lst) :\n",
        "    pivot=0\n",
        "    start=0\n",
        "    end=len(lst)-1\n",
        "    while end>=start:\n",
        "        if lst[start]>lst[pivot]:\n",
        "            print(lst[start])\n",
        "            while end>=start:\n",
        "                if lst[end]<=lst[pivot]:\n",
        "                    swap(end,start,lst)    \n",
        "                    print(lst[end])              \n",
        "                end-=1\n",
        "     \n",
        "        start+=1\n",
        "    swap(end,pivot,lst)\n",
        "    return lst\n",
        "\n",
        "def quick_sort(lst):\n",
        "  pass\n",
        "\n",
        "f= partition(a)\n",
        "#f=quick_sort(a)\n",
        "print(f)"
      ],
      "metadata": {
        "colab": {
          "base_uri": "https://localhost:8080/"
        },
        "id": "o-npl2Lixqwl",
        "outputId": "80077397-1772-4ff3-f74d-f8bf940574f2"
      },
      "execution_count": 10,
      "outputs": [
        {
          "output_type": "stream",
          "name": "stdout",
          "text": [
            "16\n",
            "16\n",
            "10\n",
            "[3, 5, 7, 2, 10, 10, 21, 16]\n",
            "CPU times: user 2.91 ms, sys: 0 ns, total: 2.91 ms\n",
            "Wall time: 2.92 ms\n"
          ]
        }
      ]
    },
    {
      "cell_type": "code",
      "source": [
        "[3, 5, 7, 2, 10, 16, 21]"
      ],
      "metadata": {
        "id": "Oqc3ygt9-l3C"
      },
      "execution_count": null,
      "outputs": []
    }
  ]
}