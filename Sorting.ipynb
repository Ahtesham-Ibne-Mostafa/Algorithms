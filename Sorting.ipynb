{
  "nbformat": 4,
  "nbformat_minor": 0,
  "metadata": {
    "colab": {
      "provenance": [],
      "authorship_tag": "ABX9TyM7bwB98BLqXKkuujGf7Q32",
      "include_colab_link": true
    },
    "kernelspec": {
      "name": "python3",
      "display_name": "Python 3"
    },
    "language_info": {
      "name": "python"
    }
  },
  "cells": [
    {
      "cell_type": "markdown",
      "metadata": {
        "id": "view-in-github",
        "colab_type": "text"
      },
      "source": [
        "<a href=\"https://colab.research.google.com/github/Ahtesham-Ibne-Mostafa/Algorithms/blob/main/Sorting.ipynb\" target=\"_parent\"><img src=\"https://colab.research.google.com/assets/colab-badge.svg\" alt=\"Open In Colab\"/></a>"
      ]
    },
    {
      "cell_type": "code",
      "execution_count": null,
      "metadata": {
        "colab": {
          "base_uri": "https://localhost:8080/"
        },
        "id": "FAtlLyUqBy1-",
        "outputId": "f87c7872-6bb1-4c56-b404-ead8bf077e5d"
      },
      "outputs": [
        {
          "output_type": "stream",
          "name": "stdout",
          "text": [
            "[1, 1, 2, 3, 4, 4, 5, 6, 7, 8, 9, 9]\n"
          ]
        }
      ],
      "source": [
        "# Insertion Sort\n",
        "\n",
        "a=[1,2,5,6,4,3,8,9,1,7,9,4]\n",
        "for i in range(1,len(a)):\n",
        "    if a[i]<a[i-1]:\n",
        "        value=a[i]\n",
        "        for j in range(i-1,-1,-1):\n",
        "            if value > a[j]:\n",
        "                a[j+1]=value\n",
        "                break\n",
        "            else:\n",
        "                a[j],a[j+1]=a[j+1],a[j]\n",
        "print(a)"
      ]
    },
    {
      "cell_type": "code",
      "source": [
        "# Selection Sort\n",
        "\n",
        "a=[1,2,5,6,4,3,8,9,1,7,9,4]\n",
        "for i in range(len (a)) :\n",
        "    f=a[i]\n",
        "    f1=i\n",
        "    for j in range(i,len(a)):\n",
        "        if a[j]>f:\n",
        "            f=a[j]\n",
        "            f1=j\n",
        "    a[f1],a[i]=a[i],a[f1]\n",
        "print(a)"
      ],
      "metadata": {
        "id": "9H_LstEDE1Zo",
        "colab": {
          "base_uri": "https://localhost:8080/"
        },
        "outputId": "f17d3b37-0f43-41fb-91b0-48700ab02fa4"
      },
      "execution_count": 3,
      "outputs": [
        {
          "output_type": "stream",
          "name": "stdout",
          "text": [
            "[9, 9, 8, 7, 6, 5, 4, 4, 3, 2, 1, 1]\n"
          ]
        }
      ]
    },
    {
      "cell_type": "code",
      "source": [],
      "metadata": {
        "id": "R83T8wbhli0y"
      },
      "execution_count": null,
      "outputs": []
    }
  ]
}