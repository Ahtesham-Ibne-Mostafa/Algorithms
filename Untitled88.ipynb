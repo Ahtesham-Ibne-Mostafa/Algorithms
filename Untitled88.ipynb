{
  "nbformat": 4,
  "nbformat_minor": 0,
  "metadata": {
    "colab": {
      "provenance": [],
      "include_colab_link": true
    },
    "kernelspec": {
      "name": "python3",
      "display_name": "Python 3"
    },
    "language_info": {
      "name": "python"
    }
  },
  "cells": [
    {
      "cell_type": "markdown",
      "metadata": {
        "id": "view-in-github",
        "colab_type": "text"
      },
      "source": [
        "<a href=\"https://colab.research.google.com/github/Ahtesham-Ibne-Mostafa/Algorithms/blob/main/Untitled88.ipynb\" target=\"_parent\"><img src=\"https://colab.research.google.com/assets/colab-badge.svg\" alt=\"Open In Colab\"/></a>"
      ]
    },
    {
      "cell_type": "code",
      "execution_count": 17,
      "metadata": {
        "colab": {
          "base_uri": "https://localhost:8080/"
        },
        "id": "bikzfoCQlUVt",
        "outputId": "8829c8d0-54dc-4b59-f381-3ccdf85d74d4"
      },
      "outputs": [
        {
          "output_type": "stream",
          "name": "stdout",
          "text": [
            "lis [9, 8, 5, 3]\n",
            "new [2, 3, 6, 8]\n",
            "ans [-7, -5, 1, 5]\n",
            "dup 5\n",
            "4 2\n",
            "CPU times: user 5.19 ms, sys: 137 µs, total: 5.33 ms\n",
            "Wall time: 6.71 ms\n"
          ]
        }
      ],
      "source": [
        "%%time\n",
        "\n",
        "l = 4\n",
        "sum = 11\n",
        "lis = [9, 8, 5, 3]\n",
        "\n",
        "new =[]\n",
        "\n",
        "for i in range(l):\n",
        "    new.append(sum-lis[i])\n",
        "\n",
        "\n",
        "ans=[]\n",
        "\n",
        "\n",
        "for i in range(l):\n",
        "  ans.append(new[i]-lis[i])\n",
        "\n",
        "\n",
        "\n",
        "print(\"lis\",lis)\n",
        "print(\"new\",new)\n",
        "print(\"ans\",ans)\n",
        "\n",
        "\n",
        "\n",
        "sec_index=None\n",
        "for i in range(l):\n",
        "  if ans[i]<0:\n",
        "    sec_index=i+1\n",
        "    dup = -1*ans[i]\n",
        "\n",
        "\n",
        "\n",
        "print(\"dup\",dup)\n",
        "\n",
        "\n",
        "fst_index = None\n",
        "for i in range(l):\n",
        "  if ans[i] == dup:\n",
        "    fst_index = i+1\n",
        "\n",
        "\n",
        "\n",
        "print(fst_index,sec_index)# if fst_index<sec_index else print(sec_index,fst_index)\n"
      ]
    },
    {
      "cell_type": "code",
      "source": [
        "%%time\n",
        "\n",
        "def two_sum(arr, target):\n",
        "    n = len(arr)\n",
        "    seen = {}\n",
        "    for i in range(n):\n",
        "        if target - arr[i] in seen:\n",
        "            return (seen[target - arr[i]] + 1, i + 1)\n",
        "        seen[arr[i]] = i\n",
        "    return \"IMPOSSIBLE\"\n",
        "\n",
        "\n",
        "result = two_sum(lis, sum)\n",
        "print(*result)"
      ],
      "metadata": {
        "id": "4f7fihZ8mGV_",
        "outputId": "ad13622d-0ee8-46a1-8828-e0751cfd1f06",
        "colab": {
          "base_uri": "https://localhost:8080/"
        }
      },
      "execution_count": 18,
      "outputs": [
        {
          "output_type": "stream",
          "name": "stdout",
          "text": [
            "2 4\n",
            "CPU times: user 118 µs, sys: 0 ns, total: 118 µs\n",
            "Wall time: 124 µs\n"
          ]
        }
      ]
    },
    {
      "cell_type": "code",
      "source": [],
      "metadata": {
        "id": "J4pjk2ZzaKRl"
      },
      "execution_count": null,
      "outputs": []
    }
  ]
}