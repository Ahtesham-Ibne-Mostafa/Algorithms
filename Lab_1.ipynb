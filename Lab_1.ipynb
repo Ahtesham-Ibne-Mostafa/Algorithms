{
  "nbformat": 4,
  "nbformat_minor": 0,
  "metadata": {
    "colab": {
      "provenance": [],
      "mount_file_id": "15RGWFwsTAxWQwaDYre5Ye7eUscvhL0rW",
      "authorship_tag": "ABX9TyOQAZTqTFzuYymwVASqQn/T",
      "include_colab_link": true
    },
    "kernelspec": {
      "name": "python3",
      "display_name": "Python 3"
    },
    "language_info": {
      "name": "python"
    }
  },
  "cells": [
    {
      "cell_type": "markdown",
      "metadata": {
        "id": "view-in-github",
        "colab_type": "text"
      },
      "source": [
        "<a href=\"https://colab.research.google.com/github/Ahtesham-Ibne-Mostafa/Algorithms/blob/main/Lab_1.ipynb\" target=\"_parent\"><img src=\"https://colab.research.google.com/assets/colab-badge.svg\" alt=\"Open In Colab\"/></a>"
      ]
    },
    {
      "cell_type": "code",
      "execution_count": 9,
      "metadata": {
        "id": "l74z8Bkt0u7N"
      },
      "outputs": [],
      "source": [
        "# Task 1: File I/O {a}\n",
        "\n",
        "\n",
        "inp_file = open ('/content/drive/MyDrive/Colab Notebooks/CSE221/Input.txt', mode ='r')\n",
        "data = inp_file.readlines()  # data = list\n",
        "out_file= open ('/content/drive/MyDrive/Colab Notebooks/CSE221/Output.txt', mode ='w')\n",
        "for i in data:\n",
        "    if int(i)%2==0:\n",
        "        print(int(i),'is an Even number',file=out_file)\n",
        "    else:\n",
        "        print(int(i),'is an Odd number',file=out_file)\n",
        "out_file.close()"
      ]
    },
    {
      "cell_type": "code",
      "source": [
        "# Task 1: File I/O {b}\n",
        "\n",
        "in_file = open ('/content/drive/MyDrive/Colab Notebooks/CSE221/in.txt',mode='r')\n",
        "out_file = open ('/content/drive/MyDrive/Colab Notebooks/CSE221/out.txt', mode='w')\n",
        "data=in_file.readlines()\n",
        "for i in range(1,16):\n",
        "    \n",
        "    a=data[i][10:-1]\n",
        "    b=a.split(' ')\n",
        "    if b[1]=='+':\n",
        "        print('The result of',a,'is',int(b[0])+int(b[2]),file=out_file)\n",
        "    elif b[1]=='*':\n",
        "        print('The result of',a,'is',int(b[0])*int(b[2]),file=out_file)\n",
        "    elif b[1]=='/':\n",
        "        print('The result of',a,'is',int(b[0])/int(b[2]),file=out_file)\n",
        "    elif b[1]=='-':\n",
        "        print('The result of',a,'is',int(b[0])-int(b[2]),file=out_file)\n",
        "        \n",
        "out_file.close()"
      ],
      "metadata": {
        "id": "g3CjtnW947tz"
      },
      "execution_count": 20,
      "outputs": []
    },
    {
      "cell_type": "code",
      "source": [],
      "metadata": {
        "id": "IZC_hxdZ-bnO"
      },
      "execution_count": null,
      "outputs": []
    }
  ]
}