{
  "nbformat": 4,
  "nbformat_minor": 0,
  "metadata": {
    "colab": {
      "provenance": [],
      "mount_file_id": "15RGWFwsTAxWQwaDYre5Ye7eUscvhL0rW",
      "authorship_tag": "ABX9TyN62R3JTZEGJ/Zl9mEDGD6V",
      "include_colab_link": true
    },
    "kernelspec": {
      "name": "python3",
      "display_name": "Python 3"
    },
    "language_info": {
      "name": "python"
    }
  },
  "cells": [
    {
      "cell_type": "markdown",
      "metadata": {
        "id": "view-in-github",
        "colab_type": "text"
      },
      "source": [
        "<a href=\"https://colab.research.google.com/github/Ahtesham-Ibne-Mostafa/Algorithms/blob/main/Lab_1.ipynb\" target=\"_parent\"><img src=\"https://colab.research.google.com/assets/colab-badge.svg\" alt=\"Open In Colab\"/></a>"
      ]
    },
    {
      "cell_type": "code",
      "execution_count": null,
      "metadata": {
        "id": "l74z8Bkt0u7N"
      },
      "outputs": [],
      "source": [
        "# Task 1: File I/O {a}\n",
        "\n",
        "\n",
        "inp_file = open ('/content/drive/MyDrive/Colab Notebooks/CSE221/Input.txt', mode ='r')\n",
        "data = inp_file.readlines()  # data = list\n",
        "out_file= open ('/content/drive/MyDrive/Colab Notebooks/CSE221/Output.txt', mode ='w')\n",
        "for i in data:\n",
        "    if int(i)%2==0:\n",
        "        print(int(i),'is an Even number',file=out_file)\n",
        "    else:\n",
        "        print(int(i),'is an Odd number',file=out_file)\n",
        "out_file.close()"
      ]
    },
    {
      "cell_type": "code",
      "source": [
        "# Task 1: File I/O {b}\n",
        "\n",
        "in_file = open ('/content/drive/MyDrive/Colab Notebooks/CSE221/in.txt',mode='r')\n",
        "out_file = open ('/content/drive/MyDrive/Colab Notebooks/CSE221/out.txt', mode='w')\n",
        "data=in_file.readlines()\n",
        "for i in range(1,16):\n",
        "    \n",
        "    a=data[i][10:-1]\n",
        "    b=a.split(' ')\n",
        "    if b[1]=='+':\n",
        "        print('The result of',a,'is',int(b[0])+int(b[2]),file=out_file)\n",
        "    elif b[1]=='*':\n",
        "        print('The result of',a,'is',int(b[0])*int(b[2]),file=out_file)\n",
        "    elif b[1]=='/':\n",
        "        print('The result of',a,'is',int(b[0])/int(b[2]),file=out_file)\n",
        "    elif b[1]=='-':\n",
        "        print('The result of',a,'is',int(b[0])-int(b[2]),file=out_file)\n",
        "        \n",
        "out_file.close()"
      ],
      "metadata": {
        "id": "g3CjtnW947tz"
      },
      "execution_count": null,
      "outputs": []
    },
    {
      "cell_type": "code",
      "source": [
        "# Task 2\n",
        "\n",
        "def fibonacci_1(n):\n",
        "    if n < 0:\n",
        "        print(\"Invalid input!\")\n",
        "    elif n <= 1:\n",
        "        return n\n",
        "    else:\n",
        "        return fibonacci_1(n-1)+fibonacci_1(n-2)\n",
        "n = int(input(\"Enter a number: \"))\n",
        "nth_fib = fibonacci_1(n)\n",
        "print(\"The {} th fibonacci number is {}.\".format(n, nth_fib))\n",
        "\n",
        "def fibonacci_2(n):\n",
        "    if n<0:\n",
        "        return \"Invalid Input\"\n",
        "    if n<=1:\n",
        "        return n\n",
        "    fib = [0] * (n+1)\n",
        "    fib[0] = 0\n",
        "    fib[1] = 1\n",
        "    for i in range(2,n+1):\n",
        "        fib[i] = fib[i-1] + fib[i-2]\n",
        "    return fib[n]\n",
        "n = int(input(\"Enter a number: \"))\n",
        "nth_fib = fibonacci_2(n)\n",
        "print(\"The {} th fibonacci number is {}.\".format(n, nth_fib))\n",
        "\n",
        "\n",
        "\n",
        "import time\n",
        "import math\n",
        "import matplotlib.pyplot as plt\n",
        "import numpy as np\n",
        "#change the value of n for your own experimentation\n",
        "n = 30\n",
        "x = [i for i in range(n)]\n",
        "y = [0 for i in range(n)]\n",
        "z = [0 for i in range(n)]\n",
        "for i in range(n-1):\n",
        "    start = time.time()\n",
        "    fibonacci_1(x[i+1])\n",
        "    y[i+1]= time.time()-start\n",
        "    start = time.time()\n",
        "    fibonacci_2(x[i+1])\n",
        "    z[i+1]= time.time()-start\n",
        "x_interval = math.ceil(n/10)\n",
        "plt.plot(x, y, 'r')\n",
        "plt.plot(x, z, 'b')\n",
        "plt.xticks(np.arange(min(x), max(x)+1, x_interval))\n",
        "plt.xlabel('n-th position')\n",
        "plt.ylabel('time')\n",
        "plt.title('Comparing Time Complexity!')\n",
        "plt.show()"
      ],
      "metadata": {
        "colab": {
          "base_uri": "https://localhost:8080/",
          "height": 364
        },
        "id": "IZC_hxdZ-bnO",
        "outputId": "87af037b-bbb2-42d2-a143-7518bfad87f4"
      },
      "execution_count": null,
      "outputs": [
        {
          "output_type": "stream",
          "name": "stdout",
          "text": [
            "Enter a number: 10\n",
            "The 10 th fibonacci number is 55.\n",
            "Enter a number: 16\n",
            "The 16 th fibonacci number is 987.\n"
          ]
        },
        {
          "output_type": "display_data",
          "data": {
            "text/plain": [
              "<Figure size 432x288 with 1 Axes>"
            ],
            "image/png": "[encoded data removed]"
          },
          "metadata": {
            "needs_background": "light"
          }
        }
      ]
    },
    {
      "cell_type": "code",
      "source": [
        "# Task 3\n",
        "\n",
        "def bubbleSort(arr):\n",
        "    for j in range(len(arr)-1):  # The best case scenario is the list is already sorted. so the loop doesn't need to run again to check again.\n",
        "        if arr[j] > arr[j+1]:\n",
        "            arr[j], arr[j+1] = arr[j+1], arr[j]\n",
        "\n",
        "in_file = open ('/content/drive/MyDrive/Colab Notebooks/CSE221/input3.txt',mode='r')\n",
        "out_file = open ('/content/drive/MyDrive/Colab Notebooks/CSE221/output3.txt', mode='w')\n",
        "data=in_file.readlines()\n",
        "data[1]=data[1].split(' ')\n",
        "f=[]\n",
        "for i in range(int(data[0])):\n",
        "    f.append(int(data[1][i]))\n",
        "bubbleSort(f)\n",
        "a=''\n",
        "for i in f:\n",
        "    a+=str(i)+' '\n",
        "print(a,file=out_file)"
      ],
      "metadata": {
        "id": "2bGk_N5pFrKm"
      },
      "execution_count": null,
      "outputs": []
    },
    {
      "cell_type": "code",
      "source": [
        "# Task\n",
        "\n"
      ],
      "metadata": {
        "id": "ZLhdMbJqLVGy"
      },
      "execution_count": null,
      "outputs": []
    }
  ]
}