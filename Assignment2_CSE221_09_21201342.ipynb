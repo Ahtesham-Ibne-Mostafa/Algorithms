{
  "nbformat": 4,
  "nbformat_minor": 0,
  "metadata": {
    "colab": {
      "provenance": [],
      "authorship_tag": "ABX9TyPA6iE64Gi2ZJuBekAoscmq",
      "include_colab_link": true
    },
    "kernelspec": {
      "name": "python3",
      "display_name": "Python 3"
    },
    "language_info": {
      "name": "python"
    }
  },
  "cells": [
    {
      "cell_type": "markdown",
      "metadata": {
        "id": "view-in-github",
        "colab_type": "text"
      },
      "source": [
        "<a href=\"https://colab.research.google.com/github/Ahtesham-Ibne-Mostafa/Algorithms/blob/main/Assignment2_CSE221_09_21201342.ipynb\" target=\"_parent\"><img src=\"https://colab.research.google.com/assets/colab-badge.svg\" alt=\"Open In Colab\"/></a>"
      ]
    },
    {
      "cell_type": "code",
      "source": [
        "# Problem :\n",
        "\n",
        "# Weighted Interval scheduling is a very common real life problem. The problem is defined to as:\n",
        "# Given a set of schedules L={li}, with associated weights W={wi}, find AL such that the members of A are non-conflicting and the total weight S=iAwi is maximized.\n",
        "# You have to write a code that finds \n",
        "# (a) the maximized weight S and, (7 points)\n",
        "# (b) the optimal subset A given, L and W. (3 points)\n",
        "# Sample input:\n",
        "# 4     // denotes the number of tasks\n",
        "# 1, 2, 50 // denotes the start time, end time and weight of the 1st task\n",
        "# 3, 5, 20 // denotes the start time, end time and weight of the 2nd task\n",
        "# 6, 19, 50 // denotes the start time, end time and weight of the 3rd task\n",
        "# 10, 100, 200 // denotes the start time, end time and weight of the 4th task\n",
        "# Sample output:\n",
        "# 270  // denotes maximum profit\n",
        "# {1,2,4}  // denotes the subset"
      ],
      "metadata": {
        "id": "LR4oSqLlBNW3"
      },
      "execution_count": null,
      "outputs": []
    },
    {
      "cell_type": "code",
      "source": [
        "from os import W_OK\n",
        "def weighted_interval_scheduling(L, W):\n",
        "    n = len(L)\n",
        "    # Sort the intervals by their finish time\n",
        "    intervals = sorted(zip(L, W), key=lambda x: x[0][1])\n",
        "    \n",
        "    # Compute the maximum weight for each interval\n",
        "    max_weights = [0] * n\n",
        "    for i in range(n):\n",
        "        weight = intervals[i][1]\n",
        "        max_weights[i] = weight\n",
        "        for j in range(i):\n",
        "            if intervals[j][0][1] <= intervals[i][0][0]:\n",
        "                weight_j = max_weights[j]\n",
        "                max_weights[i] = max(max_weights[i], weight + weight_j)\n",
        "    \n",
        "    # Compute the subset of intervals that contribute to the maximum weight\n",
        "    subset = set()\n",
        "    i = n - 1\n",
        "    while i >= 0:\n",
        "        if i == 0:\n",
        "            subset.add(i)\n",
        "            break\n",
        "        elif max_weights[i] > max_weights[i-1]:\n",
        "            subset.add(i)\n",
        "            weight = intervals[i][1]\n",
        "            for j in range(i-1, -1, -1):\n",
        "                if intervals[j][0][1] <= intervals[i][0][0] and max_weights[j] + weight == max_weights[i]:\n",
        "                    subset.add(j)\n",
        "                    i = j\n",
        "                    break\n",
        "        else:\n",
        "            i -= 1\n",
        "    \n",
        "    # Return the maximum weight and the subset\n",
        "    return max_weights[-1], sorted(subset)\n",
        "\n",
        "# Sample input\n",
        "n=int(input())\n",
        "L=[]\n",
        "W=[]\n",
        "for i in range(n):\n",
        "    f=input().split(', ')\n",
        "    L.append((int(f[0]),int(f[1])))\n",
        "    W.append(int(f[2]))\n",
        "\n",
        "# Solve the problem\n",
        "max_weight, subset = weighted_interval_scheduling(L, W)\n",
        "\n",
        "# Output the results\n",
        "print(max_weight)\n",
        "for i in range(len(subset)):\n",
        "    subset[i]=subset[i]+1\n",
        "print(subset)\n",
        "\n",
        "# The weighted_interval_scheduling function takes two arguments: L, a list of tuples representing the start and end\n",
        "# times of the intervals, and W, a list of weights corresponding to the intervals. The function first sorts the intervals by their finish time.\n",
        "# The function then initializes a list max_weights of length n, where n is the number of intervals. The i-th element of max_weights represents\n",
        "# the maximum weight that can be obtained by selecting a subset of intervals that ends at the i-th interval.\n",
        "# For each interval i, the function considers all previous intervals j and checks whether interval j can be included in the subset that ends at\n",
        "# interval i. If interval j can be included, the function computes the weight of the subset that includes interval j, adds it to the weight of\n",
        "# interval i, and updates max_weights[i] if necessary.\n",
        "# After computing max_weights, the function constructs the subset of intervals that contribute to the maximum weight. The function starts at\n",
        "# the last interval and considers all previous intervals i. If the weight of the subset that ends at interval i is greater than the weight of \n",
        "# the subset that ends at the previous interval, the function adds interval i to the subset and continues with the previous intervals that \n",
        "# contribute to the maximum weight. If the weight of the subset that ends at interval i is not greater than the weight of the subset that \n",
        "# ends at the previous interval, the function moves to the previous interval and repeats the process.\n",
        "# Finally, the function returns the maximum weight and the subset of intervals that contribute to the maximum weight.\n"
      ],
      "metadata": {
        "colab": {
          "base_uri": "https://localhost:8080/"
        },
        "id": "xObn70Y79jaB",
        "outputId": "4b7568b4-eac8-4941-f95f-80d4ce616758"
      },
      "execution_count": 7,
      "outputs": [
        {
          "output_type": "stream",
          "name": "stdout",
          "text": [
            "4\n",
            "1, 2, 50\n",
            "3, 5, 20\n",
            "6, 19, 50\n",
            "10, 100, 200\n",
            "270\n",
            "[1, 2, 4]\n"
          ]
        }
      ]
    },
    {
      "cell_type": "code",
      "source": [],
      "metadata": {
        "id": "k_6iH5Yz-v_A"
      },
      "execution_count": null,
      "outputs": []
    }
  ]
}