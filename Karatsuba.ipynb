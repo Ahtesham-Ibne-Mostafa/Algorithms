{
  "nbformat": 4,
  "nbformat_minor": 0,
  "metadata": {
    "colab": {
      "provenance": [],
      "authorship_tag": "ABX9TyNHo0yPgO1fRg5PLDU980XE",
      "include_colab_link": true
    },
    "kernelspec": {
      "name": "python3",
      "display_name": "Python 3"
    },
    "language_info": {
      "name": "python"
    }
  },
  "cells": [
    {
      "cell_type": "markdown",
      "metadata": {
        "id": "view-in-github",
        "colab_type": "text"
      },
      "source": [
        "<a href=\"https://colab.research.google.com/github/Ahtesham-Ibne-Mostafa/Algorithms/blob/main/Karatsuba.ipynb\" target=\"_parent\"><img src=\"https://colab.research.google.com/assets/colab-badge.svg\" alt=\"Open In Colab\"/></a>"
      ]
    },
    {
      "cell_type": "code",
      "execution_count": null,
      "metadata": {
        "id": "ZBvrDkMnY-cM"
      },
      "outputs": [],
      "source": [
        "# For two integers, this algorithm finds out the product of them...\n",
        "\n",
        "def karatsuba(x, y):\n",
        "    # Base case: if the length of both numbers is less than 10, use the built-in multiplication operator\n",
        "    if x < 10 or y < 10:\n",
        "        return x * y\n",
        "    \n",
        "    # Determine the maximum length of x and y\n",
        "    m = max(len(str(x)), len(str(y)))\n",
        "    \n",
        "    # Split x and y into two halves\n",
        "    m2 = m // 2\n",
        "    high1, low1 = x // 10**m2, x % 10**m2\n",
        "    high2, low2 = y // 10**m2, y % 10**m2\n",
        "    \n",
        "    # Recursively compute the three multiplications required for Karatsuba's algorithm\n",
        "    z0 = karatsuba(low1, low2)\n",
        "    z1 = karatsuba((low1 + high1), (low2 + high2))\n",
        "    z2 = karatsuba(high1, high2)\n",
        "    \n",
        "    # Combine the three multiplications to get the final result\n",
        "    return (z2 * 10**(2*m2)) + ((z1 - z2 - z0) * 10**m2) + z0\n",
        "\n",
        "# Example usage\n",
        "x = 123456789\n",
        "y = 987654321\n",
        "product = karatsuba(x, y)\n",
        "print(product)  # Output: 1219326311370217951719460941\n",
        "\n",
        "\n",
        "# The Karatsuba function uses the Karatsuba algorithm to iteratively\n",
        "# discover the product of two numbers, x and y, as input. Using the built-in\n",
        "# multiplication operator, it returns the result of the two numbers if the sum\n",
        "# of their lengths is less than 10. If not, it divides x and y into two equal\n",
        "# parts, calculates three recursive multiplications, and then adds them together\n",
        "# to produce the desired outcome."
      ]
    }
  ]
}