{
  "nbformat": 4,
  "nbformat_minor": 0,
  "metadata": {
    "colab": {
      "provenance": [],
      "authorship_tag": "ABX9TyP3GjpbYgR4IcTh5k9SPpSw",
      "include_colab_link": true
    },
    "kernelspec": {
      "name": "python3",
      "display_name": "Python 3"
    },
    "language_info": {
      "name": "python"
    }
  },
  "cells": [
    {
      "cell_type": "markdown",
      "metadata": {
        "id": "view-in-github",
        "colab_type": "text"
      },
      "source": [
        "<a href=\"https://colab.research.google.com/github/Ahtesham-Ibne-Mostafa/Algorithms/blob/main/Maximum_Sum_Subarray.ipynb\" target=\"_parent\"><img src=\"https://colab.research.google.com/assets/colab-badge.svg\" alt=\"Open In Colab\"/></a>"
      ]
    },
    {
      "cell_type": "code",
      "execution_count": null,
      "metadata": {
        "id": "MGNX0EKwZOrj"
      },
      "outputs": [],
      "source": [
        "def max_subarray(arr):\n",
        "    if len(arr) == 1:\n",
        "        return arr[0]\n",
        "\n",
        "    mid = len(arr) // 2\n",
        "    left = arr[:mid]\n",
        "    right = arr[mid:]\n",
        "\n",
        "    left_sum = max_subarray(left)\n",
        "    right_sum = max_subarray(right)\n",
        "\n",
        "    cross_sum = cross_subarray(arr, mid)\n",
        "\n",
        "    return max(left_sum, right_sum, cross_sum)\n",
        "\n",
        "def cross_subarray(arr, mid):\n",
        "    left_sum = float('-inf')\n",
        "    right_sum = float('-inf')\n",
        "\n",
        "    sum = 0\n",
        "    for i in range(mid-1, -1, -1):\n",
        "        sum += arr[i]\n",
        "        left_sum = max(left_sum, sum)\n",
        "\n",
        "    sum = 0\n",
        "    for i in range(mid, len(arr)):\n",
        "        sum += arr[i]\n",
        "        right_sum = max(right_sum, sum)\n",
        "\n",
        "    return left_sum + right_sum\n",
        "\n",
        "# Example usage\n",
        "arr = [-2, 1, -3, 4, -1, 2, 1, -5, 4]\n",
        "max_sum = max_subarray(arr)\n",
        "print(max_sum)  # Output: 6\n",
        "\n",
        "\n",
        "# When an array arr is sent as an input, the max subarray function cuts the array\n",
        "# in half until there is only one element in each half. The maximum sum subarray in the\n",
        "# left half, right half, and subarray that crosses the middle are then discovered. The\n",
        "# largest of these three subarrays is returned by the function.\n",
        "\n",
        "\n",
        "# The largest sum subarray that crosses the middle is located using the cross\n",
        "# subarray function. It calculates the greatest total of the left half and the right\n",
        "# half individually, starting at the midpoint. The left and right halves' sum is then returned."
      ]
    }
  ]
}