{
  "nbformat": 4,
  "nbformat_minor": 0,
  "metadata": {
    "colab": {
      "provenance": [],
      "include_colab_link": true
    },
    "kernelspec": {
      "name": "python3",
      "display_name": "Python 3"
    },
    "language_info": {
      "name": "python"
    }
  },
  "cells": [
    {
      "cell_type": "markdown",
      "metadata": {
        "id": "view-in-github",
        "colab_type": "text"
      },
      "source": [
        "<a href=\"https://colab.research.google.com/github/Ahtesham-Ibne-Mostafa/Algorithms/blob/main/CSE221_LAB4.ipynb\" target=\"_parent\"><img src=\"https://colab.research.google.com/assets/colab-badge.svg\" alt=\"Open In Colab\"/></a>"
      ]
    },
    {
      "cell_type": "code",
      "execution_count": 12,
      "metadata": {
        "id": "bDDrnWg26Lly",
        "outputId": "ecc23edd-3c43-4c93-8835-25ade4ccd835",
        "colab": {
          "base_uri": "https://localhost:8080/"
        }
      },
      "outputs": [
        {
          "output_type": "stream",
          "name": "stdout",
          "text": [
            "5\n",
            "<class 'str'>\n",
            "<class 'int'>\n",
            "6\n",
            "1 -> 2, 4\n",
            "2 -> 4\n",
            "3 -> 1, 4\n",
            "4 -> 2\n"
          ]
        }
      ],
      "source": [
        "# -*- coding: utf-8 -*-\n",
        "\"\"\"\n",
        "Created on Sat Oct 22 19:18:13 2022\n",
        "\n",
        "@author: Ahtesham Ibne Mostafa69420\n",
        "\"\"\"\n",
        "# CSE221 Lab 03 Graphs\n",
        "\n",
        "def readFile():\n",
        "    # reading file from as input\n",
        "    # change the file name according to yours\n",
        "    f = open(\"/content/drive/MyDrive/Colab Notebooks/CSE221/graph.txt\", \"r\")\n",
        "    \n",
        "    # first line of input contains the number of vertices in the graph\n",
        "    n = f.readline()\n",
        "    # strip() gets rid of the new line\n",
        "    # try printing n without strip()\n",
        "    print(n.strip())\n",
        "    n = n.strip()\n",
        "    print(type(n))\n",
        "    # n is of type string. we need to convert it to int\n",
        "    n=int(n)\n",
        "    print(type(n))\n",
        "    \n",
        "    # the second line of the file contains the number of connections\n",
        "    c = f.readline()\n",
        "    c = c.strip()\n",
        "    c = int(c)\n",
        "    print(c)\n",
        "    \n",
        "    buildGraphUsingDictionary(c,f)\n",
        "    \n",
        "    buildGraphUsingListofLists(c,f)\n",
        "\n",
        "\n",
        "\n",
        "# we want to build an adjacency list like the following\n",
        "# A -> B,C \n",
        "# One vertex can be connected to multiple vertices\n",
        "# which means multiple values are associated with one vertex\n",
        "# one data structure that can be used is a dictionary of lists\n",
        "# {A:[B,C]}\n",
        "\n",
        "def buildGraphUsingDictionary(c,f): \n",
        "    # creating a dictionary\n",
        "    graph = {}\n",
        "    # the following lines of the file contain the connections\n",
        "    # creating a directed graph (a,b means a is connected to b)\n",
        "    \n",
        "    counter = 0\n",
        "    while (counter<c):\n",
        "        line = f.readline() # reading each libe\n",
        "        a,b = line.split(\",\") # splitting the vertices\n",
        "        b = b.strip() # getting rid of \\n from the end\n",
        "        \n",
        "        # we first search if the value inside variable a exists in the dictionary or not\n",
        "        if(a in graph):\n",
        "            # if yes, then append() the value in b to a\n",
        "            graph[a].append(b)\n",
        "        else:\n",
        "            # create a new list in graph with a as the key and b as the value\n",
        "            graph[a] = [b]\n",
        "        print(a)\n",
        "        print(b)\n",
        "        counter+=1    \n",
        "    \n",
        "    print(graph)\n",
        "    printGraph(graph, None)\n",
        "       \n",
        "    \n",
        "# TO DO\n",
        "# This method must be completed by you\n",
        "# You should code in such a way that the output should be\n",
        " # 1 -> 2,4\n",
        " # 2 -> 4\n",
        " # 3 -> 1,4\n",
        " # 4 -> 2\n",
        "# notice this method takes both the graphs as parameters\n",
        "# this means you have print the same output in the same style for both the datastructures\n",
        "# if graph is none then print from listGraph\n",
        "# if listGraph is none then print from graph\n",
        "def printGraph(graph,listGraph):  \n",
        "    # Your code\n",
        "    if graph == None:\n",
        "      for i in range(1,len(listGraph)):\n",
        "        if listGraph[i]!=[]:\n",
        "          f=str(i)+' -> '\n",
        "          for j in listGraph[i]:\n",
        "            f+=j+', '\n",
        "          print(f[:-2])\n",
        "    elif listGraph==None:\n",
        "      for i in graph.keys():\n",
        "        if graph[i]!=[]:\n",
        "          f=str(i)+' -> '\n",
        "          for j in graph[i]:\n",
        "            f+=j+', '\n",
        "          print(f[:-2])\n",
        "\n",
        "# TO DO\n",
        "# I have shown you how to build a graph using a dictionary of list\n",
        "# now your job is to build a graph using list of lists [[E,B],[C,D]]\n",
        "# it means A -> E,B and B -> C,D\n",
        "def buildGraphUsingListofLists(c,f):\n",
        "    listGraph = [] # do not change the name of the variable\n",
        "    for i in range(c):\n",
        "      listGraph.append([])\n",
        "    for i in range(c):\n",
        "      line = f.readline()\n",
        " # reading each libe\n",
        "      a,b = line.split(\",\") # splitting the vertices\n",
        "      a=a.strip()\n",
        "      b = b.strip()\n",
        "      listGraph[int(a)].append(b)\n",
        "    printGraph(None,listGraph)\n",
        "\n",
        "# ======================Program starts here.========================\n",
        "\n",
        "# read file using the readFile() method\n",
        "readFile()"
      ]
    },
    {
      "cell_type": "code",
      "source": [
        "# Task 2\n",
        "\n",
        "def find_max(arr, left, right):\n",
        "    # If the list has only one element, return that element\n",
        "    if left == right:\n",
        "        return arr[left]\n",
        "\n",
        "    # Find the middle index\n",
        "    mid = (left + right) // 2\n",
        "\n",
        "    # Recursively find the maximum in the left half\n",
        "    left_max = find_max(arr, left, mid)\n",
        "\n",
        "    # Recursively find the maximum in the right half\n",
        "    right_max = find_max(arr, mid+1, right)\n",
        "\n",
        "    # Return the maximum of the two maximums\n",
        "    return max(left_max, right_max)\n",
        "\n",
        "# Main program\n",
        "f = open(\"/content/drive/MyDrive/Colab Notebooks/CSE221/input2.txt\", \"r\") \n",
        "data=f.readlines()\n",
        "n = int(data[0])\n",
        "arr = list(map(int, data[1].split(' ')))\n",
        "# Call the find_max function with the left and right indices of the whole list\n",
        "print(find_max(arr, 0, n-1))\n"
      ],
      "metadata": {
        "colab": {
          "base_uri": "https://localhost:8080/"
        },
        "id": "hfk9m4lJY8He",
        "outputId": "50667b41-d5f8-4185-c95a-60cc2fb38854"
      },
      "execution_count": 8,
      "outputs": [
        {
          "output_type": "stream",
          "name": "stdout",
          "text": [
            "13\n"
          ]
        }
      ]
    },
    {
      "cell_type": "code",
      "source": [
        "from google.colab import drive\n",
        "drive.mount('/content/drive')"
      ],
      "metadata": {
        "id": "QqKp8yrk0sRc",
        "outputId": "e7a1c589-2dae-40de-82fd-5c7131869b13",
        "colab": {
          "base_uri": "https://localhost:8080/"
        }
      },
      "execution_count": 1,
      "outputs": [
        {
          "output_type": "stream",
          "name": "stdout",
          "text": [
            "Mounted at /content/drive\n"
          ]
        }
      ]
    },
    {
      "cell_type": "code",
      "source": [
        "# Task 3\n",
        "\n",
        "def merge_sort(arr):\n",
        "    if len(arr) <= 1:\n",
        "        return arr, 0\n",
        "    \n",
        "    mid = len(arr) // 2\n",
        "    left, inv_left = merge_sort(arr[:mid])\n",
        "    right, inv_right = merge_sort(arr[mid:])\n",
        "    \n",
        "    merged = []\n",
        "    i, j = 0, 0\n",
        "    inv_count = inv_left + inv_right\n",
        "    while i < len(left) and j < len(right):\n",
        "        if left[i] <= right[j]:\n",
        "            merged.append(left[i])\n",
        "            i += 1\n",
        "        else:\n",
        "            merged.append(right[j])\n",
        "            j += 1\n",
        "            inv_count += len(left) - i\n",
        "    \n",
        "    merged += left[i:]\n",
        "    merged += right[j:]\n",
        "    \n",
        "    return merged, inv_count\n",
        "\n",
        "f = open(\"/content/drive/MyDrive/Colab Notebooks/CSE221/input3.txt\", \"r\") \n",
        "data=f.readlines()\n",
        "n = int(data[0])\n",
        "heights = list(map(int, data[1].split(' ')))\n",
        "\n",
        "inversions = merge_sort(heights)\n",
        "print(inversions[1])\n"
      ],
      "metadata": {
        "id": "C3RpR20UZe6l",
        "outputId": "64641e61-fd79-4837-b3ec-b156e7a77548",
        "colab": {
          "base_uri": "https://localhost:8080/"
        }
      },
      "execution_count": 16,
      "outputs": [
        {
          "output_type": "stream",
          "name": "stdout",
          "text": [
            "10\n"
          ]
        }
      ]
    },
    {
      "cell_type": "code",
      "source": [],
      "metadata": {
        "id": "Q8beIHEm8JKF"
      },
      "execution_count": null,
      "outputs": []
    }
  ]
}