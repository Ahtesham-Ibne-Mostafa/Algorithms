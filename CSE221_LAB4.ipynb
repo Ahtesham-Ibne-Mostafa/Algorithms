{
  "nbformat": 4,
  "nbformat_minor": 0,
  "metadata": {
    "colab": {
      "provenance": [],
      "mount_file_id": "11-jZHrX2qy5DO41x9CdjxGuVtwgn7EgJ",
      "authorship_tag": "ABX9TyNogOn3YazPfz2XNJbVUQI+",
      "include_colab_link": true
    },
    "kernelspec": {
      "name": "python3",
      "display_name": "Python 3"
    },
    "language_info": {
      "name": "python"
    }
  },
  "cells": [
    {
      "cell_type": "markdown",
      "metadata": {
        "id": "view-in-github",
        "colab_type": "text"
      },
      "source": [
        "<a href=\"https://colab.research.google.com/github/Ahtesham-Ibne-Mostafa/Algorithms/blob/main/CSE221_LAB4.ipynb\" target=\"_parent\"><img src=\"https://colab.research.google.com/assets/colab-badge.svg\" alt=\"Open In Colab\"/></a>"
      ]
    },
    {
      "cell_type": "code",
      "execution_count": 47,
      "metadata": {
        "colab": {
          "base_uri": "https://localhost:8080/",
          "height": 710
        },
        "id": "bDDrnWg26Lly",
        "outputId": "ed2d953b-73c8-489e-bdc8-0be0b1851545"
      },
      "outputs": [
        {
          "output_type": "stream",
          "name": "stdout",
          "text": [
            "5\n",
            "<class 'str'>\n",
            "<class 'int'>\n",
            "6\n",
            "1\n",
            "2\n",
            "3\n",
            "1\n",
            "1\n",
            "4\n",
            "2\n",
            "4\n",
            "3\n",
            "4\n",
            "4\n",
            "2\n",
            "{'1': ['2', '4'], '3': ['1', '4'], '2': ['4'], '4': ['2']}\n",
            "1 -> 2, 4\n",
            "3 -> 1, 4\n",
            "2 -> 4\n",
            "4 -> 2\n"
          ]
        },
        {
          "output_type": "error",
          "ename": "ValueError",
          "evalue": "ignored",
          "traceback": [
            "\u001b[0;31m---------------------------------------------------------------------------\u001b[0m",
            "\u001b[0;31mValueError\u001b[0m                                Traceback (most recent call last)",
            "\u001b[0;32m<ipython-input-47-f5076da8031c>\u001b[0m in \u001b[0;36m<module>\u001b[0;34m\u001b[0m\n\u001b[1;32m    117\u001b[0m \u001b[0;34m\u001b[0m\u001b[0m\n\u001b[1;32m    118\u001b[0m \u001b[0;31m# read file using the readFile() method\u001b[0m\u001b[0;34m\u001b[0m\u001b[0;34m\u001b[0m\u001b[0;34m\u001b[0m\u001b[0m\n\u001b[0;32m--> 119\u001b[0;31m \u001b[0mreadFile\u001b[0m\u001b[0;34m(\u001b[0m\u001b[0;34m)\u001b[0m\u001b[0;34m\u001b[0m\u001b[0;34m\u001b[0m\u001b[0m\n\u001b[0m",
            "\u001b[0;32m<ipython-input-47-f5076da8031c>\u001b[0m in \u001b[0;36mreadFile\u001b[0;34m()\u001b[0m\n\u001b[1;32m     31\u001b[0m     \u001b[0mbuildGraphUsingDictionary\u001b[0m\u001b[0;34m(\u001b[0m\u001b[0mc\u001b[0m\u001b[0;34m,\u001b[0m\u001b[0mf\u001b[0m\u001b[0;34m)\u001b[0m\u001b[0;34m\u001b[0m\u001b[0;34m\u001b[0m\u001b[0m\n\u001b[1;32m     32\u001b[0m \u001b[0;34m\u001b[0m\u001b[0m\n\u001b[0;32m---> 33\u001b[0;31m     \u001b[0mbuildGraphUsingListofLists\u001b[0m\u001b[0;34m(\u001b[0m\u001b[0mc\u001b[0m\u001b[0;34m,\u001b[0m\u001b[0mf\u001b[0m\u001b[0;34m)\u001b[0m\u001b[0;34m\u001b[0m\u001b[0;34m\u001b[0m\u001b[0m\n\u001b[0m\u001b[1;32m     34\u001b[0m \u001b[0;34m\u001b[0m\u001b[0m\n\u001b[1;32m     35\u001b[0m \u001b[0;34m\u001b[0m\u001b[0m\n",
            "\u001b[0;32m<ipython-input-47-f5076da8031c>\u001b[0m in \u001b[0;36mbuildGraphUsingListofLists\u001b[0;34m(c, f)\u001b[0m\n\u001b[1;32m    108\u001b[0m       \u001b[0mline\u001b[0m \u001b[0;34m=\u001b[0m \u001b[0mf\u001b[0m\u001b[0;34m.\u001b[0m\u001b[0mreadline\u001b[0m\u001b[0;34m(\u001b[0m\u001b[0;34m)\u001b[0m\u001b[0;34m\u001b[0m\u001b[0;34m\u001b[0m\u001b[0m\n\u001b[1;32m    109\u001b[0m  \u001b[0;31m# reading each libe\u001b[0m\u001b[0;34m\u001b[0m\u001b[0;34m\u001b[0m\u001b[0;34m\u001b[0m\u001b[0m\n\u001b[0;32m--> 110\u001b[0;31m       \u001b[0ma\u001b[0m\u001b[0;34m,\u001b[0m\u001b[0mb\u001b[0m \u001b[0;34m=\u001b[0m \u001b[0mline\u001b[0m\u001b[0;34m.\u001b[0m\u001b[0msplit\u001b[0m\u001b[0;34m(\u001b[0m\u001b[0;34m\",\"\u001b[0m\u001b[0;34m)\u001b[0m \u001b[0;31m# splitting the vertices\u001b[0m\u001b[0;34m\u001b[0m\u001b[0;34m\u001b[0m\u001b[0m\n\u001b[0m\u001b[1;32m    111\u001b[0m       \u001b[0ma\u001b[0m\u001b[0;34m=\u001b[0m\u001b[0ma\u001b[0m\u001b[0;34m.\u001b[0m\u001b[0mstrip\u001b[0m\u001b[0;34m(\u001b[0m\u001b[0;34m)\u001b[0m\u001b[0;34m\u001b[0m\u001b[0;34m\u001b[0m\u001b[0m\n\u001b[1;32m    112\u001b[0m       \u001b[0mb\u001b[0m \u001b[0;34m=\u001b[0m \u001b[0mb\u001b[0m\u001b[0;34m.\u001b[0m\u001b[0mstrip\u001b[0m\u001b[0;34m(\u001b[0m\u001b[0;34m)\u001b[0m\u001b[0;34m\u001b[0m\u001b[0;34m\u001b[0m\u001b[0m\n",
            "\u001b[0;31mValueError\u001b[0m: not enough values to unpack (expected 2, got 1)"
          ]
        }
      ],
      "source": [
        "# -*- coding: utf-8 -*-\n",
        "\"\"\"\n",
        "Created on Sat Oct 22 19:18:13 2022\n",
        "\n",
        "@author: Ahtesham Ibne Mostafa69420\n",
        "\"\"\"\n",
        "# CSE221 Lab 03 Graphs\n",
        "\n",
        "def readFile():\n",
        "    # reading file from as input\n",
        "    # change the file name according to yours\n",
        "    f = open(\"/content/drive/MyDrive/graph.txt\", \"r\")\n",
        "    \n",
        "    # first line of input contains the number of vertices in the graph\n",
        "    n = f.readline()\n",
        "    # strip() gets rid of the new line\n",
        "    # try printing n without strip()\n",
        "    print(n.strip())\n",
        "    n = n.strip()\n",
        "    print(type(n))\n",
        "    # n is of type string. we need to convert it to int\n",
        "    n=int(n)\n",
        "    print(type(n))\n",
        "    \n",
        "    # the second line of the file contains the number of connections\n",
        "    c = f.readline()\n",
        "    c = c.strip()\n",
        "    c = int(c)\n",
        "    print(c)\n",
        "    \n",
        "    buildGraphUsingDictionary(c,f)\n",
        "    \n",
        "    buildGraphUsingListofLists(c,f)\n",
        "\n",
        "\n",
        "\n",
        "# we want to build an adjacency list like the following\n",
        "# A -> B,C \n",
        "# One vertex can be connected to multiple vertices\n",
        "# which means multiple values are associated with one vertex\n",
        "# one data structure that can be used is a dictionary of lists\n",
        "# {A:[B,C]}\n",
        "\n",
        "def buildGraphUsingDictionary(c,f): \n",
        "    # creating a dictionary\n",
        "    graph = {}\n",
        "    # the following lines of the file contain the connections\n",
        "    # creating a directed graph (a,b means a is connected to b)\n",
        "    \n",
        "    counter = 0\n",
        "    while (counter<c):\n",
        "        line = f.readline() # reading each libe\n",
        "        a,b = line.split(\",\") # splitting the vertices\n",
        "        b = b.strip() # getting rid of \\n from the end\n",
        "        \n",
        "        # we first search if the value inside variable a exists in the dictionary or not\n",
        "        if(a in graph):\n",
        "            # if yes, then append() the value in b to a\n",
        "            graph[a].append(b)\n",
        "        else:\n",
        "            # create a new list in graph with a as the key and b as the value\n",
        "            graph[a] = [b]\n",
        "        print(a)\n",
        "        print(b)\n",
        "        counter+=1    \n",
        "    \n",
        "    print(graph)\n",
        "    printGraph(graph, None)\n",
        "       \n",
        "    \n",
        "# TO DO\n",
        "# This method must be completed by you\n",
        "# You should code in such a way that the output should be\n",
        " # 1 -> 2,4\n",
        " # 2 -> 4\n",
        " # 3 -> 1,4\n",
        " # 4 -> 2\n",
        "# notice this method takes both the graphs as parameters\n",
        "# this means you have print the same output in the same style for both the datastructures\n",
        "# if graph is none then print from listGraph\n",
        "# if listGraph is none then print from graph\n",
        "def printGraph(graph,listGraph):  \n",
        "    # Your code\n",
        "    if graph == None:\n",
        "      for i in range(1,len(listGraph)):\n",
        "        if listGraph[i]!=[]:\n",
        "          f=str(i)+' -> '\n",
        "          for j in listGraph[i]:\n",
        "            f+=j+', '\n",
        "          print(f[:-2])\n",
        "    elif listGraph==None:\n",
        "      for i in graph.keys():\n",
        "        if graph[i]!=[]:\n",
        "          f=str(i)+' -> '\n",
        "          for j in graph[i]:\n",
        "            f+=j+', '\n",
        "          print(f[:-2])\n",
        "\n",
        "# TO DO\n",
        "# I have shown you how to build a graph using a dictionary of list\n",
        "# now your job is to build a graph using list of lists [[E,B],[C,D]]\n",
        "# it means A -> E,B and B -> C,D\n",
        "def buildGraphUsingListofLists(c,f):\n",
        "    listGraph = [] # do not change the name of the variable\n",
        "    for i in range(c):\n",
        "      listGraph.append([])\n",
        "    for i in range(c):\n",
        "      line = f.readline()\n",
        " # reading each libe\n",
        "      a,b = line.split(\",\") # splitting the vertices\n",
        "      a=a.strip()\n",
        "      b = b.strip()\n",
        "      listGraph[int(a)].append(b)\n",
        "    printGraph(None,listGraph)\n",
        "\n",
        "# ======================Program starts here.========================\n",
        "\n",
        "# read file using the readFile() method\n",
        "readFile()"
      ]
    },
    {
      "cell_type": "code",
      "source": [
        "# Task 2\n",
        "\n"
      ],
      "metadata": {
        "id": "sP0GyFkiEMm7"
      },
      "execution_count": null,
      "outputs": []
    }
  ]
}